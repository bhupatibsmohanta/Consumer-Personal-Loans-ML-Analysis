{
 "cells": [
  {
   "cell_type": "code",
   "execution_count": 1,
   "metadata": {},
   "outputs": [],
   "source": [
    "import pandas as pd\n",
    "import numpy as np\n",
    "import matplotlib.pyplot as plt\n",
    "import seaborn as sns"
   ]
  },
  {
   "cell_type": "code",
   "execution_count": 297,
   "metadata": {},
   "outputs": [],
   "source": [
    "df=pd.read_excel(r'F:\\Data analysis\\Edulyt India\\Project - 4 - Train Data.xlsx')"
   ]
  },
  {
   "cell_type": "code",
   "execution_count": 298,
   "metadata": {},
   "outputs": [
    {
     "data": {
      "text/html": [
       "<div>\n",
       "<style scoped>\n",
       "    .dataframe tbody tr th:only-of-type {\n",
       "        vertical-align: middle;\n",
       "    }\n",
       "\n",
       "    .dataframe tbody tr th {\n",
       "        vertical-align: top;\n",
       "    }\n",
       "\n",
       "    .dataframe thead th {\n",
       "        text-align: right;\n",
       "    }\n",
       "</style>\n",
       "<table border=\"1\" class=\"dataframe\">\n",
       "  <thead>\n",
       "    <tr style=\"text-align: right;\">\n",
       "      <th></th>\n",
       "      <th>Loanapp_ID</th>\n",
       "      <th>Sex</th>\n",
       "      <th>Marital_Status</th>\n",
       "      <th>first_name</th>\n",
       "      <th>last_name</th>\n",
       "      <th>email</th>\n",
       "      <th>address</th>\n",
       "      <th>Dependents</th>\n",
       "      <th>Qual_var</th>\n",
       "      <th>SE</th>\n",
       "      <th>App_Income_1</th>\n",
       "      <th>App_Income_2</th>\n",
       "      <th>CPL_Amount</th>\n",
       "      <th>CPL_Term</th>\n",
       "      <th>Credit_His</th>\n",
       "      <th>Prop_Area</th>\n",
       "      <th>INT_ID</th>\n",
       "      <th>Prev_ID</th>\n",
       "      <th>AGT_ID</th>\n",
       "      <th>CPL_Status</th>\n",
       "    </tr>\n",
       "  </thead>\n",
       "  <tbody>\n",
       "    <tr>\n",
       "      <th>0</th>\n",
       "      <td>CPL001002</td>\n",
       "      <td>M</td>\n",
       "      <td>N</td>\n",
       "      <td>Austin</td>\n",
       "      <td>Pennycook</td>\n",
       "      <td>apennycook1@mac.com</td>\n",
       "      <td>007 Miller Road</td>\n",
       "      <td>0</td>\n",
       "      <td>Grad</td>\n",
       "      <td>N</td>\n",
       "      <td>7018.8</td>\n",
       "      <td>0.0</td>\n",
       "      <td>NaN</td>\n",
       "      <td>360.0</td>\n",
       "      <td>1.0</td>\n",
       "      <td>Urban</td>\n",
       "      <td>9694176212</td>\n",
       "      <td>92-247-0058</td>\n",
       "      <td>Mozilla/5.0 (Windows; U; Windows NT 5.1; zh-TW...</td>\n",
       "      <td>Y</td>\n",
       "    </tr>\n",
       "    <tr>\n",
       "      <th>1</th>\n",
       "      <td>CPL001003</td>\n",
       "      <td>M</td>\n",
       "      <td>Y</td>\n",
       "      <td>Mareah</td>\n",
       "      <td>Tomanek</td>\n",
       "      <td>mtomanek2@bloomberg.com</td>\n",
       "      <td>145 Charing Cross Junction</td>\n",
       "      <td>1</td>\n",
       "      <td>Grad</td>\n",
       "      <td>N</td>\n",
       "      <td>5499.6</td>\n",
       "      <td>1809.6</td>\n",
       "      <td>153.6</td>\n",
       "      <td>360.0</td>\n",
       "      <td>1.0</td>\n",
       "      <td>Rural</td>\n",
       "      <td>152387684</td>\n",
       "      <td>36-236-3028</td>\n",
       "      <td>Mozilla/5.0 (Windows NT 5.1; rv:21.0) Gecko/20...</td>\n",
       "      <td>N</td>\n",
       "    </tr>\n",
       "    <tr>\n",
       "      <th>2</th>\n",
       "      <td>CPL001005</td>\n",
       "      <td>M</td>\n",
       "      <td>Y</td>\n",
       "      <td>Myrna</td>\n",
       "      <td>Rosenthaler</td>\n",
       "      <td>mrosenthaler3@dmoz.org</td>\n",
       "      <td>268 Algoma Hill</td>\n",
       "      <td>0</td>\n",
       "      <td>Grad</td>\n",
       "      <td>Y</td>\n",
       "      <td>3600.0</td>\n",
       "      <td>0.0</td>\n",
       "      <td>79.2</td>\n",
       "      <td>360.0</td>\n",
       "      <td>1.0</td>\n",
       "      <td>Urban</td>\n",
       "      <td>6510396556</td>\n",
       "      <td>34-339-0917</td>\n",
       "      <td>Mozilla/5.0 (Windows; U; Windows NT 6.1; cs-CZ...</td>\n",
       "      <td>Y</td>\n",
       "    </tr>\n",
       "    <tr>\n",
       "      <th>3</th>\n",
       "      <td>CPL001006</td>\n",
       "      <td>M</td>\n",
       "      <td>Y</td>\n",
       "      <td>Danyette</td>\n",
       "      <td>Stempe</td>\n",
       "      <td>dstempe4@tumblr.com</td>\n",
       "      <td>571 Stone Corner Park</td>\n",
       "      <td>0</td>\n",
       "      <td>Non Grad</td>\n",
       "      <td>N</td>\n",
       "      <td>3099.6</td>\n",
       "      <td>2829.6</td>\n",
       "      <td>144.0</td>\n",
       "      <td>360.0</td>\n",
       "      <td>1.0</td>\n",
       "      <td>Urban</td>\n",
       "      <td>7141853006</td>\n",
       "      <td>94-098-8902</td>\n",
       "      <td>Mozilla/5.0 (iPhone; U; CPU iPhone OS 4_2_1 li...</td>\n",
       "      <td>Y</td>\n",
       "    </tr>\n",
       "    <tr>\n",
       "      <th>4</th>\n",
       "      <td>CPL001008</td>\n",
       "      <td>M</td>\n",
       "      <td>N</td>\n",
       "      <td>Patten</td>\n",
       "      <td>McCathy</td>\n",
       "      <td>pmccathy5@ted.com</td>\n",
       "      <td>118 Moulton Drive</td>\n",
       "      <td>0</td>\n",
       "      <td>Grad</td>\n",
       "      <td>N</td>\n",
       "      <td>7200.0</td>\n",
       "      <td>0.0</td>\n",
       "      <td>169.2</td>\n",
       "      <td>360.0</td>\n",
       "      <td>1.0</td>\n",
       "      <td>Urban</td>\n",
       "      <td>23293411</td>\n",
       "      <td>38-247-1410</td>\n",
       "      <td>Mozilla/5.0 (Windows NT 6.0; WOW64) AppleWebKi...</td>\n",
       "      <td>Y</td>\n",
       "    </tr>\n",
       "  </tbody>\n",
       "</table>\n",
       "</div>"
      ],
      "text/plain": [
       "  Loanapp_ID Sex Marital_Status first_name    last_name  \\\n",
       "0  CPL001002   M              N     Austin    Pennycook   \n",
       "1  CPL001003   M              Y     Mareah      Tomanek   \n",
       "2  CPL001005   M              Y      Myrna  Rosenthaler   \n",
       "3  CPL001006   M              Y   Danyette       Stempe   \n",
       "4  CPL001008   M              N     Patten      McCathy   \n",
       "\n",
       "                     email                     address Dependents  Qual_var  \\\n",
       "0      apennycook1@mac.com             007 Miller Road          0      Grad   \n",
       "1  mtomanek2@bloomberg.com  145 Charing Cross Junction          1      Grad   \n",
       "2   mrosenthaler3@dmoz.org             268 Algoma Hill          0      Grad   \n",
       "3      dstempe4@tumblr.com       571 Stone Corner Park          0  Non Grad   \n",
       "4        pmccathy5@ted.com           118 Moulton Drive          0      Grad   \n",
       "\n",
       "  SE  App_Income_1  App_Income_2  CPL_Amount  CPL_Term  Credit_His Prop_Area  \\\n",
       "0  N        7018.8           0.0         NaN     360.0         1.0     Urban   \n",
       "1  N        5499.6        1809.6       153.6     360.0         1.0     Rural   \n",
       "2  Y        3600.0           0.0        79.2     360.0         1.0     Urban   \n",
       "3  N        3099.6        2829.6       144.0     360.0         1.0     Urban   \n",
       "4  N        7200.0           0.0       169.2     360.0         1.0     Urban   \n",
       "\n",
       "       INT_ID      Prev_ID                                             AGT_ID  \\\n",
       "0  9694176212  92-247-0058  Mozilla/5.0 (Windows; U; Windows NT 5.1; zh-TW...   \n",
       "1   152387684  36-236-3028  Mozilla/5.0 (Windows NT 5.1; rv:21.0) Gecko/20...   \n",
       "2  6510396556  34-339-0917  Mozilla/5.0 (Windows; U; Windows NT 6.1; cs-CZ...   \n",
       "3  7141853006  94-098-8902  Mozilla/5.0 (iPhone; U; CPU iPhone OS 4_2_1 li...   \n",
       "4    23293411  38-247-1410  Mozilla/5.0 (Windows NT 6.0; WOW64) AppleWebKi...   \n",
       "\n",
       "  CPL_Status  \n",
       "0          Y  \n",
       "1          N  \n",
       "2          Y  \n",
       "3          Y  \n",
       "4          Y  "
      ]
     },
     "execution_count": 298,
     "metadata": {},
     "output_type": "execute_result"
    }
   ],
   "source": [
    "df.head()"
   ]
  },
  {
   "cell_type": "code",
   "execution_count": 299,
   "metadata": {},
   "outputs": [],
   "source": [
    "#df.info()"
   ]
  },
  {
   "cell_type": "code",
   "execution_count": 300,
   "metadata": {},
   "outputs": [],
   "source": [
    "#df.describe"
   ]
  },
  {
   "cell_type": "code",
   "execution_count": 301,
   "metadata": {},
   "outputs": [],
   "source": [
    "#df.isnull().sum()"
   ]
  },
  {
   "cell_type": "code",
   "execution_count": 302,
   "metadata": {},
   "outputs": [],
   "source": [
    "# 614 rows x 20 columns"
   ]
  },
  {
   "cell_type": "markdown",
   "metadata": {},
   "source": [
    "## Handling Missing Values"
   ]
  },
  {
   "cell_type": "code",
   "execution_count": 303,
   "metadata": {},
   "outputs": [
    {
     "data": {
      "text/plain": [
       "M    489\n",
       "Name: Sex, dtype: int64"
      ]
     },
     "execution_count": 303,
     "metadata": {},
     "output_type": "execute_result"
    }
   ],
   "source": [
    "df['Sex'][df['Sex']=='M'].value_counts()"
   ]
  },
  {
   "cell_type": "code",
   "execution_count": 304,
   "metadata": {},
   "outputs": [
    {
     "data": {
      "text/plain": [
       "F    112\n",
       "Name: Sex, dtype: int64"
      ]
     },
     "execution_count": 304,
     "metadata": {},
     "output_type": "execute_result"
    }
   ],
   "source": [
    "df['Sex'][df['Sex']=='F'].value_counts()"
   ]
  },
  {
   "cell_type": "code",
   "execution_count": 305,
   "metadata": {},
   "outputs": [],
   "source": [
    "df['Sex'].fillna('O',inplace=True)"
   ]
  },
  {
   "cell_type": "code",
   "execution_count": 306,
   "metadata": {},
   "outputs": [
    {
     "data": {
      "text/plain": [
       "array(['M', 'F', 'O'], dtype=object)"
      ]
     },
     "execution_count": 306,
     "metadata": {},
     "output_type": "execute_result"
    }
   ],
   "source": [
    "df['Sex'].unique()"
   ]
  },
  {
   "cell_type": "code",
   "execution_count": 307,
   "metadata": {},
   "outputs": [],
   "source": [
    "df['Marital_Status'].fillna('Y',inplace=True)"
   ]
  },
  {
   "cell_type": "code",
   "execution_count": 308,
   "metadata": {},
   "outputs": [
    {
     "data": {
      "text/plain": [
       "0     345\n",
       "1     102\n",
       "2     101\n",
       "3+     51\n",
       "Name: Dependents, dtype: int64"
      ]
     },
     "execution_count": 308,
     "metadata": {},
     "output_type": "execute_result"
    }
   ],
   "source": [
    "df['Dependents'].value_counts()"
   ]
  },
  {
   "cell_type": "code",
   "execution_count": 309,
   "metadata": {},
   "outputs": [],
   "source": [
    "df['Dependents'].fillna(0,inplace=True)"
   ]
  },
  {
   "cell_type": "code",
   "execution_count": 310,
   "metadata": {},
   "outputs": [],
   "source": [
    "#df.isnull().sum()"
   ]
  },
  {
   "cell_type": "code",
   "execution_count": 311,
   "metadata": {},
   "outputs": [
    {
     "data": {
      "text/plain": [
       "N    500\n",
       "Y     82\n",
       "Name: SE, dtype: int64"
      ]
     },
     "execution_count": 311,
     "metadata": {},
     "output_type": "execute_result"
    }
   ],
   "source": [
    "df.SE.value_counts()"
   ]
  },
  {
   "cell_type": "code",
   "execution_count": 312,
   "metadata": {},
   "outputs": [],
   "source": [
    "df.SE.fillna('N',inplace=True)"
   ]
  },
  {
   "cell_type": "code",
   "execution_count": 313,
   "metadata": {},
   "outputs": [],
   "source": [
    "df.CPL_Amount.fillna(df.CPL_Amount.median(),inplace=True)\n"
   ]
  },
  {
   "cell_type": "code",
   "execution_count": 314,
   "metadata": {},
   "outputs": [],
   "source": [
    "#df.isnull().sum()"
   ]
  },
  {
   "cell_type": "code",
   "execution_count": 315,
   "metadata": {},
   "outputs": [
    {
     "data": {
      "text/plain": [
       "360.0    512\n",
       "180.0     44\n",
       "480.0     15\n",
       "300.0     13\n",
       "84.0       4\n",
       "240.0      4\n",
       "120.0      3\n",
       "36.0       2\n",
       "60.0       2\n",
       "12.0       1\n",
       "Name: CPL_Term, dtype: int64"
      ]
     },
     "execution_count": 315,
     "metadata": {},
     "output_type": "execute_result"
    }
   ],
   "source": [
    "df.CPL_Term.value_counts()"
   ]
  },
  {
   "cell_type": "code",
   "execution_count": 316,
   "metadata": {},
   "outputs": [],
   "source": [
    "df.CPL_Term.fillna(360.0,inplace=True)"
   ]
  },
  {
   "cell_type": "code",
   "execution_count": 317,
   "metadata": {},
   "outputs": [
    {
     "data": {
      "text/plain": [
       "1.0    475\n",
       "0.0     89\n",
       "Name: Credit_His, dtype: int64"
      ]
     },
     "execution_count": 317,
     "metadata": {},
     "output_type": "execute_result"
    }
   ],
   "source": [
    "df.Credit_His.value_counts()"
   ]
  },
  {
   "cell_type": "code",
   "execution_count": 318,
   "metadata": {},
   "outputs": [],
   "source": [
    "df.Credit_His.fillna(1.0,inplace=True)"
   ]
  },
  {
   "cell_type": "code",
   "execution_count": 319,
   "metadata": {},
   "outputs": [
    {
     "data": {
      "text/plain": [
       "<matplotlib.axes._subplots.AxesSubplot at 0x26e3fbb77c8>"
      ]
     },
     "execution_count": 319,
     "metadata": {},
     "output_type": "execute_result"
    },
    {
     "data": {
      "image/png": "[encoded data removed]",
      "text/plain": [
       "<Figure size 576x396 with 2 Axes>"
      ]
     },
     "metadata": {},
     "output_type": "display_data"
    }
   ],
   "source": [
    "sns.heatmap(df.isnull(),yticklabels=False)"
   ]
  },
  {
   "cell_type": "code",
   "execution_count": 25,
   "metadata": {},
   "outputs": [],
   "source": [
    "from pandas_profiling import ProfileReport"
   ]
  },
  {
   "cell_type": "markdown",
   "metadata": {},
   "source": [
    "# Exploratory Data Analysis and Preprocessing"
   ]
  },
  {
   "cell_type": "code",
   "execution_count": 320,
   "metadata": {},
   "outputs": [],
   "source": [
    "data=df.copy()"
   ]
  },
  {
   "cell_type": "code",
   "execution_count": 321,
   "metadata": {},
   "outputs": [],
   "source": [
    "data.drop(columns=['Loanapp_ID','first_name','last_name','email','address','INT_ID','Prev_ID','AGT_ID'],inplace=True)"
   ]
  },
  {
   "cell_type": "code",
   "execution_count": 322,
   "metadata": {},
   "outputs": [
    {
     "data": {
      "text/plain": [
       "Sex               0\n",
       "Marital_Status    0\n",
       "Dependents        0\n",
       "Qual_var          0\n",
       "SE                0\n",
       "App_Income_1      0\n",
       "App_Income_2      0\n",
       "CPL_Amount        0\n",
       "CPL_Term          0\n",
       "Credit_His        0\n",
       "Prop_Area         0\n",
       "CPL_Status        0\n",
       "dtype: int64"
      ]
     },
     "execution_count": 322,
     "metadata": {},
     "output_type": "execute_result"
    }
   ],
   "source": [
    "data.isnull().sum()"
   ]
  },
  {
   "cell_type": "code",
   "execution_count": 323,
   "metadata": {},
   "outputs": [
    {
     "data": {
      "text/html": [
       "<div>\n",
       "<style scoped>\n",
       "    .dataframe tbody tr th:only-of-type {\n",
       "        vertical-align: middle;\n",
       "    }\n",
       "\n",
       "    .dataframe tbody tr th {\n",
       "        vertical-align: top;\n",
       "    }\n",
       "\n",
       "    .dataframe thead th {\n",
       "        text-align: right;\n",
       "    }\n",
       "</style>\n",
       "<table border=\"1\" class=\"dataframe\">\n",
       "  <thead>\n",
       "    <tr style=\"text-align: right;\">\n",
       "      <th></th>\n",
       "      <th>Sex</th>\n",
       "      <th>Marital_Status</th>\n",
       "      <th>Dependents</th>\n",
       "      <th>Qual_var</th>\n",
       "      <th>SE</th>\n",
       "      <th>App_Income_1</th>\n",
       "      <th>App_Income_2</th>\n",
       "      <th>CPL_Amount</th>\n",
       "      <th>CPL_Term</th>\n",
       "      <th>Credit_His</th>\n",
       "      <th>Prop_Area</th>\n",
       "      <th>CPL_Status</th>\n",
       "    </tr>\n",
       "  </thead>\n",
       "  <tbody>\n",
       "    <tr>\n",
       "      <th>0</th>\n",
       "      <td>M</td>\n",
       "      <td>N</td>\n",
       "      <td>0</td>\n",
       "      <td>Grad</td>\n",
       "      <td>N</td>\n",
       "      <td>7018.8</td>\n",
       "      <td>0.0</td>\n",
       "      <td>153.6</td>\n",
       "      <td>360.0</td>\n",
       "      <td>1.0</td>\n",
       "      <td>Urban</td>\n",
       "      <td>Y</td>\n",
       "    </tr>\n",
       "    <tr>\n",
       "      <th>1</th>\n",
       "      <td>M</td>\n",
       "      <td>Y</td>\n",
       "      <td>1</td>\n",
       "      <td>Grad</td>\n",
       "      <td>N</td>\n",
       "      <td>5499.6</td>\n",
       "      <td>1809.6</td>\n",
       "      <td>153.6</td>\n",
       "      <td>360.0</td>\n",
       "      <td>1.0</td>\n",
       "      <td>Rural</td>\n",
       "      <td>N</td>\n",
       "    </tr>\n",
       "    <tr>\n",
       "      <th>2</th>\n",
       "      <td>M</td>\n",
       "      <td>Y</td>\n",
       "      <td>0</td>\n",
       "      <td>Grad</td>\n",
       "      <td>Y</td>\n",
       "      <td>3600.0</td>\n",
       "      <td>0.0</td>\n",
       "      <td>79.2</td>\n",
       "      <td>360.0</td>\n",
       "      <td>1.0</td>\n",
       "      <td>Urban</td>\n",
       "      <td>Y</td>\n",
       "    </tr>\n",
       "    <tr>\n",
       "      <th>3</th>\n",
       "      <td>M</td>\n",
       "      <td>Y</td>\n",
       "      <td>0</td>\n",
       "      <td>Non Grad</td>\n",
       "      <td>N</td>\n",
       "      <td>3099.6</td>\n",
       "      <td>2829.6</td>\n",
       "      <td>144.0</td>\n",
       "      <td>360.0</td>\n",
       "      <td>1.0</td>\n",
       "      <td>Urban</td>\n",
       "      <td>Y</td>\n",
       "    </tr>\n",
       "    <tr>\n",
       "      <th>4</th>\n",
       "      <td>M</td>\n",
       "      <td>N</td>\n",
       "      <td>0</td>\n",
       "      <td>Grad</td>\n",
       "      <td>N</td>\n",
       "      <td>7200.0</td>\n",
       "      <td>0.0</td>\n",
       "      <td>169.2</td>\n",
       "      <td>360.0</td>\n",
       "      <td>1.0</td>\n",
       "      <td>Urban</td>\n",
       "      <td>Y</td>\n",
       "    </tr>\n",
       "  </tbody>\n",
       "</table>\n",
       "</div>"
      ],
      "text/plain": [
       "  Sex Marital_Status Dependents  Qual_var SE  App_Income_1  App_Income_2  \\\n",
       "0   M              N          0      Grad  N        7018.8           0.0   \n",
       "1   M              Y          1      Grad  N        5499.6        1809.6   \n",
       "2   M              Y          0      Grad  Y        3600.0           0.0   \n",
       "3   M              Y          0  Non Grad  N        3099.6        2829.6   \n",
       "4   M              N          0      Grad  N        7200.0           0.0   \n",
       "\n",
       "   CPL_Amount  CPL_Term  Credit_His Prop_Area CPL_Status  \n",
       "0       153.6     360.0         1.0     Urban          Y  \n",
       "1       153.6     360.0         1.0     Rural          N  \n",
       "2        79.2     360.0         1.0     Urban          Y  \n",
       "3       144.0     360.0         1.0     Urban          Y  \n",
       "4       169.2     360.0         1.0     Urban          Y  "
      ]
     },
     "execution_count": 323,
     "metadata": {},
     "output_type": "execute_result"
    }
   ],
   "source": [
    "data.head()"
   ]
  },
  {
   "cell_type": "code",
   "execution_count": 324,
   "metadata": {},
   "outputs": [
    {
     "data": {
      "image/png": "[encoded data removed]",
      "text/plain": [
       "<Figure size 576x396 with 1 Axes>"
      ]
     },
     "metadata": {},
     "output_type": "display_data"
    },
    {
     "data": {
      "image/png": "[encoded data removed]",
      "text/plain": [
       "<Figure size 576x396 with 1 Axes>"
      ]
     },
     "metadata": {},
     "output_type": "display_data"
    },
    {
     "data": {
      "image/png": "[encoded data removed]",
      "text/plain": [
       "<Figure size 576x396 with 1 Axes>"
      ]
     },
     "metadata": {},
     "output_type": "display_data"
    },
    {
     "data": {
      "image/png": "[encoded data removed]",
      "text/plain": [
       "<Figure size 576x396 with 1 Axes>"
      ]
     },
     "metadata": {},
     "output_type": "display_data"
    },
    {
     "data": {
      "image/png": "[encoded data removed]",
      "text/plain": [
       "<Figure size 576x396 with 1 Axes>"
      ]
     },
     "metadata": {},
     "output_type": "display_data"
    },
    {
     "data": {
      "image/png": "[encoded data removed]",
      "text/plain": [
       "<Figure size 576x396 with 1 Axes>"
      ]
     },
     "metadata": {},
     "output_type": "display_data"
    }
   ],
   "source": [
    "for x in ['Sex','Marital_Status','Dependents','Qual_var','SE','Prop_Area']:\n",
    "    sns.countplot(x=x,hue='CPL_Status',data=data)\n",
    "    plt.show()"
   ]
  },
  {
   "cell_type": "markdown",
   "metadata": {},
   "source": [
    "#### Conclusions:- 1. People in male category are lot more than other categories\n",
    "####                          2. People who are married are more and have better chances of approval than those who are not\n",
    "####                          3.There are much more independent people than dependent people but it does not mean dependent people have   more chances of rejection\n",
    "####                          4.Non graduated people have higher rejected appications than graduated ones.\n",
    "####                          5. There are more self employed people who applied for loan than others.\n",
    "####                          6. There are more applications from semi U areas and also with better approvals."
   ]
  },
  {
   "cell_type": "code",
   "execution_count": 325,
   "metadata": {},
   "outputs": [
    {
     "data": {
      "image/png": "[encoded data removed]",
      "text/plain": [
       "<Figure size 576x396 with 1 Axes>"
      ]
     },
     "metadata": {},
     "output_type": "display_data"
    },
    {
     "data": {
      "image/png": "[encoded data removed]",
      "text/plain": [
       "<Figure size 576x396 with 1 Axes>"
      ]
     },
     "metadata": {},
     "output_type": "display_data"
    },
    {
     "data": {
      "image/png": "[encoded data removed]",
      "text/plain": [
       "<Figure size 576x396 with 1 Axes>"
      ]
     },
     "metadata": {},
     "output_type": "display_data"
    },
    {
     "data": {
      "image/png": "[encoded data removed]",
      "text/plain": [
       "<Figure size 576x396 with 1 Axes>"
      ]
     },
     "metadata": {},
     "output_type": "display_data"
    },
    {
     "data": {
      "image/png": "[encoded data removed]",
      "text/plain": [
       "<Figure size 576x396 with 1 Axes>"
      ]
     },
     "metadata": {},
     "output_type": "display_data"
    },
    {
     "data": {
      "image/png": "[encoded data removed]",
      "text/plain": [
       "<Figure size 576x396 with 1 Axes>"
      ]
     },
     "metadata": {},
     "output_type": "display_data"
    }
   ],
   "source": [
    "for x in ['Sex','Marital_Status','Qual_var','SE','Prop_Area','Credit_His']:\n",
    "#    sns.boxplot(x=x,y='CPL_Amount',data=data,palette='winter')\n",
    "    plt.scatter(data[x],data['CPL_Amount'])\n",
    "    plt.xlabel(x)\n",
    "    plt.ylabel('CPL AMOUNT')\n",
    "    plt.show()"
   ]
  },
  {
   "cell_type": "code",
   "execution_count": 326,
   "metadata": {},
   "outputs": [
    {
     "data": {
      "image/png": "[encoded data removed]",
      "text/plain": [
       "<Figure size 576x396 with 1 Axes>"
      ]
     },
     "metadata": {},
     "output_type": "display_data"
    },
    {
     "data": {
      "image/png": "[encoded data removed]",
      "text/plain": [
       "<Figure size 576x396 with 1 Axes>"
      ]
     },
     "metadata": {},
     "output_type": "display_data"
    },
    {
     "data": {
      "image/png": "[encoded data removed]",
      "text/plain": [
       "<Figure size 576x396 with 1 Axes>"
      ]
     },
     "metadata": {},
     "output_type": "display_data"
    },
    {
     "data": {
      "image/png": "[encoded data removed]",
      "text/plain": [
       "<Figure size 576x396 with 1 Axes>"
      ]
     },
     "metadata": {},
     "output_type": "display_data"
    }
   ],
   "source": [
    "for x in ['App_Income_1','App_Income_2','CPL_Amount','CPL_Term']:\n",
    "    data[x].hist(bins=25)\n",
    "    plt.xlabel(x)\n",
    "    plt.ylabel('count')\n",
    "    plt.show()"
   ]
  },
  {
   "cell_type": "code",
   "execution_count": null,
   "metadata": {},
   "outputs": [],
   "source": []
  },
  {
   "cell_type": "code",
   "execution_count": 46,
   "metadata": {},
   "outputs": [],
   "source": [
    "profile=ProfileReport(data,title='Pandas Profiling Report',explorative=True)"
   ]
  },
  {
   "cell_type": "code",
   "execution_count": 47,
   "metadata": {},
   "outputs": [
    {
     "data": {
      "application/vnd.jupyter.widget-view+json": {
       "model_id": "1ca7ce2a77fb4625a9cc4f6a296ed9ac",
       "version_major": 2,
       "version_minor": 0
      },
      "text/plain": [
       "HBox(children=(FloatProgress(value=0.0, description='Summarize dataset', max=26.0, style=ProgressStyle(descrip…"
      ]
     },
     "metadata": {},
     "output_type": "display_data"
    },
    {
     "name": "stdout",
     "output_type": "stream",
     "text": [
      "\n"
     ]
    },
    {
     "data": {
      "application/vnd.jupyter.widget-view+json": {
       "model_id": "a70fbaec036847f8a5c0b48001536127",
       "version_major": 2,
       "version_minor": 0
      },
      "text/plain": [
       "HBox(children=(FloatProgress(value=0.0, description='Generate report structure', max=1.0, style=ProgressStyle(…"
      ]
     },
     "metadata": {},
     "output_type": "display_data"
    },
    {
     "name": "stdout",
     "output_type": "stream",
     "text": [
      "\n"
     ]
    },
    {
     "data": {
      "application/vnd.jupyter.widget-view+json": {
       "model_id": "",
       "version_major": 2,
       "version_minor": 0
      },
      "text/plain": [
       "HBox(children=(FloatProgress(value=0.0, description='Render widgets', max=1.0, style=ProgressStyle(description…"
      ]
     },
     "metadata": {},
     "output_type": "display_data"
    },
    {
     "data": {
      "application/vnd.jupyter.widget-view+json": {
       "model_id": "0c012953ff3f4cd7aea5daa041febb33",
       "version_major": 2,
       "version_minor": 0
      },
      "text/plain": [
       "VBox(children=(Tab(children=(Tab(children=(GridBox(children=(VBox(children=(GridspecLayout(children=(HTML(valu…"
      ]
     },
     "metadata": {},
     "output_type": "display_data"
    }
   ],
   "source": [
    "profile.to_widgets()"
   ]
  },
  {
   "cell_type": "code",
   "execution_count": 327,
   "metadata": {},
   "outputs": [
    {
     "data": {
      "text/html": [
       "<div>\n",
       "<style scoped>\n",
       "    .dataframe tbody tr th:only-of-type {\n",
       "        vertical-align: middle;\n",
       "    }\n",
       "\n",
       "    .dataframe tbody tr th {\n",
       "        vertical-align: top;\n",
       "    }\n",
       "\n",
       "    .dataframe thead th {\n",
       "        text-align: right;\n",
       "    }\n",
       "</style>\n",
       "<table border=\"1\" class=\"dataframe\">\n",
       "  <thead>\n",
       "    <tr style=\"text-align: right;\">\n",
       "      <th></th>\n",
       "      <th>Sex</th>\n",
       "      <th>Marital_Status</th>\n",
       "      <th>Dependents</th>\n",
       "      <th>Qual_var</th>\n",
       "      <th>SE</th>\n",
       "      <th>App_Income_1</th>\n",
       "      <th>App_Income_2</th>\n",
       "      <th>CPL_Amount</th>\n",
       "      <th>CPL_Term</th>\n",
       "      <th>Credit_His</th>\n",
       "      <th>Prop_Area</th>\n",
       "      <th>CPL_Status</th>\n",
       "    </tr>\n",
       "  </thead>\n",
       "  <tbody>\n",
       "    <tr>\n",
       "      <th>0</th>\n",
       "      <td>M</td>\n",
       "      <td>N</td>\n",
       "      <td>0</td>\n",
       "      <td>Grad</td>\n",
       "      <td>N</td>\n",
       "      <td>7018.8</td>\n",
       "      <td>0.0</td>\n",
       "      <td>153.6</td>\n",
       "      <td>360.0</td>\n",
       "      <td>1.0</td>\n",
       "      <td>Urban</td>\n",
       "      <td>Y</td>\n",
       "    </tr>\n",
       "    <tr>\n",
       "      <th>1</th>\n",
       "      <td>M</td>\n",
       "      <td>Y</td>\n",
       "      <td>1</td>\n",
       "      <td>Grad</td>\n",
       "      <td>N</td>\n",
       "      <td>5499.6</td>\n",
       "      <td>1809.6</td>\n",
       "      <td>153.6</td>\n",
       "      <td>360.0</td>\n",
       "      <td>1.0</td>\n",
       "      <td>Rural</td>\n",
       "      <td>N</td>\n",
       "    </tr>\n",
       "    <tr>\n",
       "      <th>2</th>\n",
       "      <td>M</td>\n",
       "      <td>Y</td>\n",
       "      <td>0</td>\n",
       "      <td>Grad</td>\n",
       "      <td>Y</td>\n",
       "      <td>3600.0</td>\n",
       "      <td>0.0</td>\n",
       "      <td>79.2</td>\n",
       "      <td>360.0</td>\n",
       "      <td>1.0</td>\n",
       "      <td>Urban</td>\n",
       "      <td>Y</td>\n",
       "    </tr>\n",
       "    <tr>\n",
       "      <th>3</th>\n",
       "      <td>M</td>\n",
       "      <td>Y</td>\n",
       "      <td>0</td>\n",
       "      <td>Non Grad</td>\n",
       "      <td>N</td>\n",
       "      <td>3099.6</td>\n",
       "      <td>2829.6</td>\n",
       "      <td>144.0</td>\n",
       "      <td>360.0</td>\n",
       "      <td>1.0</td>\n",
       "      <td>Urban</td>\n",
       "      <td>Y</td>\n",
       "    </tr>\n",
       "    <tr>\n",
       "      <th>4</th>\n",
       "      <td>M</td>\n",
       "      <td>N</td>\n",
       "      <td>0</td>\n",
       "      <td>Grad</td>\n",
       "      <td>N</td>\n",
       "      <td>7200.0</td>\n",
       "      <td>0.0</td>\n",
       "      <td>169.2</td>\n",
       "      <td>360.0</td>\n",
       "      <td>1.0</td>\n",
       "      <td>Urban</td>\n",
       "      <td>Y</td>\n",
       "    </tr>\n",
       "  </tbody>\n",
       "</table>\n",
       "</div>"
      ],
      "text/plain": [
       "  Sex Marital_Status Dependents  Qual_var SE  App_Income_1  App_Income_2  \\\n",
       "0   M              N          0      Grad  N        7018.8           0.0   \n",
       "1   M              Y          1      Grad  N        5499.6        1809.6   \n",
       "2   M              Y          0      Grad  Y        3600.0           0.0   \n",
       "3   M              Y          0  Non Grad  N        3099.6        2829.6   \n",
       "4   M              N          0      Grad  N        7200.0           0.0   \n",
       "\n",
       "   CPL_Amount  CPL_Term  Credit_His Prop_Area CPL_Status  \n",
       "0       153.6     360.0         1.0     Urban          Y  \n",
       "1       153.6     360.0         1.0     Rural          N  \n",
       "2        79.2     360.0         1.0     Urban          Y  \n",
       "3       144.0     360.0         1.0     Urban          Y  \n",
       "4       169.2     360.0         1.0     Urban          Y  "
      ]
     },
     "execution_count": 327,
     "metadata": {},
     "output_type": "execute_result"
    }
   ],
   "source": [
    "data.head()"
   ]
  },
  {
   "cell_type": "code",
   "execution_count": 328,
   "metadata": {},
   "outputs": [],
   "source": [
    "# One hot encoding used for nominal variables\n",
    "data1=pd.get_dummies(data,columns=['Sex','Marital_Status','SE'],drop_first=True)"
   ]
  },
  {
   "cell_type": "code",
   "execution_count": 329,
   "metadata": {},
   "outputs": [
    {
     "data": {
      "text/html": [
       "<div>\n",
       "<style scoped>\n",
       "    .dataframe tbody tr th:only-of-type {\n",
       "        vertical-align: middle;\n",
       "    }\n",
       "\n",
       "    .dataframe tbody tr th {\n",
       "        vertical-align: top;\n",
       "    }\n",
       "\n",
       "    .dataframe thead th {\n",
       "        text-align: right;\n",
       "    }\n",
       "</style>\n",
       "<table border=\"1\" class=\"dataframe\">\n",
       "  <thead>\n",
       "    <tr style=\"text-align: right;\">\n",
       "      <th></th>\n",
       "      <th>Dependents</th>\n",
       "      <th>Qual_var</th>\n",
       "      <th>App_Income_1</th>\n",
       "      <th>App_Income_2</th>\n",
       "      <th>CPL_Amount</th>\n",
       "      <th>CPL_Term</th>\n",
       "      <th>Credit_His</th>\n",
       "      <th>Prop_Area</th>\n",
       "      <th>CPL_Status</th>\n",
       "      <th>Sex_M</th>\n",
       "      <th>Sex_O</th>\n",
       "      <th>Marital_Status_Y</th>\n",
       "      <th>SE_Y</th>\n",
       "    </tr>\n",
       "  </thead>\n",
       "  <tbody>\n",
       "    <tr>\n",
       "      <th>0</th>\n",
       "      <td>0</td>\n",
       "      <td>Grad</td>\n",
       "      <td>7018.8</td>\n",
       "      <td>0.0</td>\n",
       "      <td>153.6</td>\n",
       "      <td>360.0</td>\n",
       "      <td>1.0</td>\n",
       "      <td>Urban</td>\n",
       "      <td>Y</td>\n",
       "      <td>1</td>\n",
       "      <td>0</td>\n",
       "      <td>0</td>\n",
       "      <td>0</td>\n",
       "    </tr>\n",
       "    <tr>\n",
       "      <th>1</th>\n",
       "      <td>1</td>\n",
       "      <td>Grad</td>\n",
       "      <td>5499.6</td>\n",
       "      <td>1809.6</td>\n",
       "      <td>153.6</td>\n",
       "      <td>360.0</td>\n",
       "      <td>1.0</td>\n",
       "      <td>Rural</td>\n",
       "      <td>N</td>\n",
       "      <td>1</td>\n",
       "      <td>0</td>\n",
       "      <td>1</td>\n",
       "      <td>0</td>\n",
       "    </tr>\n",
       "    <tr>\n",
       "      <th>2</th>\n",
       "      <td>0</td>\n",
       "      <td>Grad</td>\n",
       "      <td>3600.0</td>\n",
       "      <td>0.0</td>\n",
       "      <td>79.2</td>\n",
       "      <td>360.0</td>\n",
       "      <td>1.0</td>\n",
       "      <td>Urban</td>\n",
       "      <td>Y</td>\n",
       "      <td>1</td>\n",
       "      <td>0</td>\n",
       "      <td>1</td>\n",
       "      <td>1</td>\n",
       "    </tr>\n",
       "    <tr>\n",
       "      <th>3</th>\n",
       "      <td>0</td>\n",
       "      <td>Non Grad</td>\n",
       "      <td>3099.6</td>\n",
       "      <td>2829.6</td>\n",
       "      <td>144.0</td>\n",
       "      <td>360.0</td>\n",
       "      <td>1.0</td>\n",
       "      <td>Urban</td>\n",
       "      <td>Y</td>\n",
       "      <td>1</td>\n",
       "      <td>0</td>\n",
       "      <td>1</td>\n",
       "      <td>0</td>\n",
       "    </tr>\n",
       "    <tr>\n",
       "      <th>4</th>\n",
       "      <td>0</td>\n",
       "      <td>Grad</td>\n",
       "      <td>7200.0</td>\n",
       "      <td>0.0</td>\n",
       "      <td>169.2</td>\n",
       "      <td>360.0</td>\n",
       "      <td>1.0</td>\n",
       "      <td>Urban</td>\n",
       "      <td>Y</td>\n",
       "      <td>1</td>\n",
       "      <td>0</td>\n",
       "      <td>0</td>\n",
       "      <td>0</td>\n",
       "    </tr>\n",
       "  </tbody>\n",
       "</table>\n",
       "</div>"
      ],
      "text/plain": [
       "  Dependents  Qual_var  App_Income_1  App_Income_2  CPL_Amount  CPL_Term  \\\n",
       "0          0      Grad        7018.8           0.0       153.6     360.0   \n",
       "1          1      Grad        5499.6        1809.6       153.6     360.0   \n",
       "2          0      Grad        3600.0           0.0        79.2     360.0   \n",
       "3          0  Non Grad        3099.6        2829.6       144.0     360.0   \n",
       "4          0      Grad        7200.0           0.0       169.2     360.0   \n",
       "\n",
       "   Credit_His Prop_Area CPL_Status  Sex_M  Sex_O  Marital_Status_Y  SE_Y  \n",
       "0         1.0     Urban          Y      1      0                 0     0  \n",
       "1         1.0     Rural          N      1      0                 1     0  \n",
       "2         1.0     Urban          Y      1      0                 1     1  \n",
       "3         1.0     Urban          Y      1      0                 1     0  \n",
       "4         1.0     Urban          Y      1      0                 0     0  "
      ]
     },
     "execution_count": 329,
     "metadata": {},
     "output_type": "execute_result"
    }
   ],
   "source": [
    "data1.head()"
   ]
  },
  {
   "cell_type": "code",
   "execution_count": 330,
   "metadata": {},
   "outputs": [],
   "source": [
    "#from sklearn.preprocessing import LabelEncoder\n",
    "#le=LabelEncoder()"
   ]
  },
  {
   "cell_type": "code",
   "execution_count": 331,
   "metadata": {},
   "outputs": [],
   "source": [
    "#le.fit(['Grad','Non Grad'])"
   ]
  },
  {
   "cell_type": "code",
   "execution_count": 332,
   "metadata": {},
   "outputs": [],
   "source": [
    "#data1.Qual_var=le.transform(data1.Qual_var)"
   ]
  },
  {
   "cell_type": "code",
   "execution_count": 333,
   "metadata": {},
   "outputs": [
    {
     "data": {
      "text/html": [
       "<div>\n",
       "<style scoped>\n",
       "    .dataframe tbody tr th:only-of-type {\n",
       "        vertical-align: middle;\n",
       "    }\n",
       "\n",
       "    .dataframe tbody tr th {\n",
       "        vertical-align: top;\n",
       "    }\n",
       "\n",
       "    .dataframe thead th {\n",
       "        text-align: right;\n",
       "    }\n",
       "</style>\n",
       "<table border=\"1\" class=\"dataframe\">\n",
       "  <thead>\n",
       "    <tr style=\"text-align: right;\">\n",
       "      <th></th>\n",
       "      <th>Dependents</th>\n",
       "      <th>Qual_var</th>\n",
       "      <th>App_Income_1</th>\n",
       "      <th>App_Income_2</th>\n",
       "      <th>CPL_Amount</th>\n",
       "      <th>CPL_Term</th>\n",
       "      <th>Credit_His</th>\n",
       "      <th>Prop_Area</th>\n",
       "      <th>CPL_Status</th>\n",
       "      <th>Sex_M</th>\n",
       "      <th>Sex_O</th>\n",
       "      <th>Marital_Status_Y</th>\n",
       "      <th>SE_Y</th>\n",
       "    </tr>\n",
       "  </thead>\n",
       "  <tbody>\n",
       "    <tr>\n",
       "      <th>0</th>\n",
       "      <td>0</td>\n",
       "      <td>Grad</td>\n",
       "      <td>7018.8</td>\n",
       "      <td>0.0</td>\n",
       "      <td>153.6</td>\n",
       "      <td>360.0</td>\n",
       "      <td>1.0</td>\n",
       "      <td>Urban</td>\n",
       "      <td>Y</td>\n",
       "      <td>1</td>\n",
       "      <td>0</td>\n",
       "      <td>0</td>\n",
       "      <td>0</td>\n",
       "    </tr>\n",
       "    <tr>\n",
       "      <th>1</th>\n",
       "      <td>1</td>\n",
       "      <td>Grad</td>\n",
       "      <td>5499.6</td>\n",
       "      <td>1809.6</td>\n",
       "      <td>153.6</td>\n",
       "      <td>360.0</td>\n",
       "      <td>1.0</td>\n",
       "      <td>Rural</td>\n",
       "      <td>N</td>\n",
       "      <td>1</td>\n",
       "      <td>0</td>\n",
       "      <td>1</td>\n",
       "      <td>0</td>\n",
       "    </tr>\n",
       "    <tr>\n",
       "      <th>2</th>\n",
       "      <td>0</td>\n",
       "      <td>Grad</td>\n",
       "      <td>3600.0</td>\n",
       "      <td>0.0</td>\n",
       "      <td>79.2</td>\n",
       "      <td>360.0</td>\n",
       "      <td>1.0</td>\n",
       "      <td>Urban</td>\n",
       "      <td>Y</td>\n",
       "      <td>1</td>\n",
       "      <td>0</td>\n",
       "      <td>1</td>\n",
       "      <td>1</td>\n",
       "    </tr>\n",
       "    <tr>\n",
       "      <th>3</th>\n",
       "      <td>0</td>\n",
       "      <td>Non Grad</td>\n",
       "      <td>3099.6</td>\n",
       "      <td>2829.6</td>\n",
       "      <td>144.0</td>\n",
       "      <td>360.0</td>\n",
       "      <td>1.0</td>\n",
       "      <td>Urban</td>\n",
       "      <td>Y</td>\n",
       "      <td>1</td>\n",
       "      <td>0</td>\n",
       "      <td>1</td>\n",
       "      <td>0</td>\n",
       "    </tr>\n",
       "    <tr>\n",
       "      <th>4</th>\n",
       "      <td>0</td>\n",
       "      <td>Grad</td>\n",
       "      <td>7200.0</td>\n",
       "      <td>0.0</td>\n",
       "      <td>169.2</td>\n",
       "      <td>360.0</td>\n",
       "      <td>1.0</td>\n",
       "      <td>Urban</td>\n",
       "      <td>Y</td>\n",
       "      <td>1</td>\n",
       "      <td>0</td>\n",
       "      <td>0</td>\n",
       "      <td>0</td>\n",
       "    </tr>\n",
       "  </tbody>\n",
       "</table>\n",
       "</div>"
      ],
      "text/plain": [
       "  Dependents  Qual_var  App_Income_1  App_Income_2  CPL_Amount  CPL_Term  \\\n",
       "0          0      Grad        7018.8           0.0       153.6     360.0   \n",
       "1          1      Grad        5499.6        1809.6       153.6     360.0   \n",
       "2          0      Grad        3600.0           0.0        79.2     360.0   \n",
       "3          0  Non Grad        3099.6        2829.6       144.0     360.0   \n",
       "4          0      Grad        7200.0           0.0       169.2     360.0   \n",
       "\n",
       "   Credit_His Prop_Area CPL_Status  Sex_M  Sex_O  Marital_Status_Y  SE_Y  \n",
       "0         1.0     Urban          Y      1      0                 0     0  \n",
       "1         1.0     Rural          N      1      0                 1     0  \n",
       "2         1.0     Urban          Y      1      0                 1     1  \n",
       "3         1.0     Urban          Y      1      0                 1     0  \n",
       "4         1.0     Urban          Y      1      0                 0     0  "
      ]
     },
     "execution_count": 333,
     "metadata": {},
     "output_type": "execute_result"
    }
   ],
   "source": [
    "data1.head()"
   ]
  },
  {
   "cell_type": "code",
   "execution_count": 334,
   "metadata": {},
   "outputs": [],
   "source": [
    "data1.Qual_var=data1.Qual_var.replace(['Grad','Non Grad'],[1,0])"
   ]
  },
  {
   "cell_type": "code",
   "execution_count": 335,
   "metadata": {},
   "outputs": [
    {
     "data": {
      "text/plain": [
       "Semi U    233\n",
       "Urban     202\n",
       "Rural     179\n",
       "Name: Prop_Area, dtype: int64"
      ]
     },
     "execution_count": 335,
     "metadata": {},
     "output_type": "execute_result"
    }
   ],
   "source": [
    "data1.Prop_Area.value_counts()"
   ]
  },
  {
   "cell_type": "code",
   "execution_count": 336,
   "metadata": {},
   "outputs": [],
   "source": [
    "data1.Prop_Area=data1.Prop_Area.replace(['Urban','Semi U','Rural'],[2,1,0])"
   ]
  },
  {
   "cell_type": "code",
   "execution_count": 337,
   "metadata": {},
   "outputs": [
    {
     "data": {
      "text/plain": [
       "0     360\n",
       "1     102\n",
       "2     101\n",
       "3+     51\n",
       "Name: Dependents, dtype: int64"
      ]
     },
     "execution_count": 337,
     "metadata": {},
     "output_type": "execute_result"
    }
   ],
   "source": [
    "data1.Dependents.value_counts()"
   ]
  },
  {
   "cell_type": "code",
   "execution_count": 338,
   "metadata": {},
   "outputs": [],
   "source": [
    "data1.Dependents=data1.Dependents.replace([0,1,2,'3+'],[3,2,1,0])"
   ]
  },
  {
   "cell_type": "code",
   "execution_count": 339,
   "metadata": {},
   "outputs": [
    {
     "data": {
      "text/plain": [
       "3    360\n",
       "2    102\n",
       "1    101\n",
       "0     51\n",
       "Name: Dependents, dtype: int64"
      ]
     },
     "execution_count": 339,
     "metadata": {},
     "output_type": "execute_result"
    }
   ],
   "source": [
    "data1.Dependents.value_counts()"
   ]
  },
  {
   "cell_type": "code",
   "execution_count": 340,
   "metadata": {},
   "outputs": [],
   "source": [
    "data1.CPL_Status=data1.CPL_Status.replace(['Y','N'],[1,0])"
   ]
  },
  {
   "cell_type": "code",
   "execution_count": 341,
   "metadata": {},
   "outputs": [
    {
     "data": {
      "text/html": [
       "<div>\n",
       "<style scoped>\n",
       "    .dataframe tbody tr th:only-of-type {\n",
       "        vertical-align: middle;\n",
       "    }\n",
       "\n",
       "    .dataframe tbody tr th {\n",
       "        vertical-align: top;\n",
       "    }\n",
       "\n",
       "    .dataframe thead th {\n",
       "        text-align: right;\n",
       "    }\n",
       "</style>\n",
       "<table border=\"1\" class=\"dataframe\">\n",
       "  <thead>\n",
       "    <tr style=\"text-align: right;\">\n",
       "      <th></th>\n",
       "      <th>Dependents</th>\n",
       "      <th>Qual_var</th>\n",
       "      <th>App_Income_1</th>\n",
       "      <th>App_Income_2</th>\n",
       "      <th>CPL_Amount</th>\n",
       "      <th>CPL_Term</th>\n",
       "      <th>Credit_His</th>\n",
       "      <th>Prop_Area</th>\n",
       "      <th>CPL_Status</th>\n",
       "      <th>Sex_M</th>\n",
       "      <th>Sex_O</th>\n",
       "      <th>Marital_Status_Y</th>\n",
       "      <th>SE_Y</th>\n",
       "    </tr>\n",
       "  </thead>\n",
       "  <tbody>\n",
       "    <tr>\n",
       "      <th>0</th>\n",
       "      <td>3</td>\n",
       "      <td>1</td>\n",
       "      <td>7018.8</td>\n",
       "      <td>0.0</td>\n",
       "      <td>153.6</td>\n",
       "      <td>360.0</td>\n",
       "      <td>1.0</td>\n",
       "      <td>2</td>\n",
       "      <td>1</td>\n",
       "      <td>1</td>\n",
       "      <td>0</td>\n",
       "      <td>0</td>\n",
       "      <td>0</td>\n",
       "    </tr>\n",
       "    <tr>\n",
       "      <th>1</th>\n",
       "      <td>2</td>\n",
       "      <td>1</td>\n",
       "      <td>5499.6</td>\n",
       "      <td>1809.6</td>\n",
       "      <td>153.6</td>\n",
       "      <td>360.0</td>\n",
       "      <td>1.0</td>\n",
       "      <td>0</td>\n",
       "      <td>0</td>\n",
       "      <td>1</td>\n",
       "      <td>0</td>\n",
       "      <td>1</td>\n",
       "      <td>0</td>\n",
       "    </tr>\n",
       "    <tr>\n",
       "      <th>2</th>\n",
       "      <td>3</td>\n",
       "      <td>1</td>\n",
       "      <td>3600.0</td>\n",
       "      <td>0.0</td>\n",
       "      <td>79.2</td>\n",
       "      <td>360.0</td>\n",
       "      <td>1.0</td>\n",
       "      <td>2</td>\n",
       "      <td>1</td>\n",
       "      <td>1</td>\n",
       "      <td>0</td>\n",
       "      <td>1</td>\n",
       "      <td>1</td>\n",
       "    </tr>\n",
       "    <tr>\n",
       "      <th>3</th>\n",
       "      <td>3</td>\n",
       "      <td>0</td>\n",
       "      <td>3099.6</td>\n",
       "      <td>2829.6</td>\n",
       "      <td>144.0</td>\n",
       "      <td>360.0</td>\n",
       "      <td>1.0</td>\n",
       "      <td>2</td>\n",
       "      <td>1</td>\n",
       "      <td>1</td>\n",
       "      <td>0</td>\n",
       "      <td>1</td>\n",
       "      <td>0</td>\n",
       "    </tr>\n",
       "    <tr>\n",
       "      <th>4</th>\n",
       "      <td>3</td>\n",
       "      <td>1</td>\n",
       "      <td>7200.0</td>\n",
       "      <td>0.0</td>\n",
       "      <td>169.2</td>\n",
       "      <td>360.0</td>\n",
       "      <td>1.0</td>\n",
       "      <td>2</td>\n",
       "      <td>1</td>\n",
       "      <td>1</td>\n",
       "      <td>0</td>\n",
       "      <td>0</td>\n",
       "      <td>0</td>\n",
       "    </tr>\n",
       "  </tbody>\n",
       "</table>\n",
       "</div>"
      ],
      "text/plain": [
       "   Dependents  Qual_var  App_Income_1  App_Income_2  CPL_Amount  CPL_Term  \\\n",
       "0           3         1        7018.8           0.0       153.6     360.0   \n",
       "1           2         1        5499.6        1809.6       153.6     360.0   \n",
       "2           3         1        3600.0           0.0        79.2     360.0   \n",
       "3           3         0        3099.6        2829.6       144.0     360.0   \n",
       "4           3         1        7200.0           0.0       169.2     360.0   \n",
       "\n",
       "   Credit_His  Prop_Area  CPL_Status  Sex_M  Sex_O  Marital_Status_Y  SE_Y  \n",
       "0         1.0          2           1      1      0                 0     0  \n",
       "1         1.0          0           0      1      0                 1     0  \n",
       "2         1.0          2           1      1      0                 1     1  \n",
       "3         1.0          2           1      1      0                 1     0  \n",
       "4         1.0          2           1      1      0                 0     0  "
      ]
     },
     "execution_count": 341,
     "metadata": {},
     "output_type": "execute_result"
    }
   ],
   "source": [
    "data1.head()"
   ]
  },
  {
   "cell_type": "code",
   "execution_count": 67,
   "metadata": {},
   "outputs": [],
   "source": [
    "profile=ProfileReport(data1,title='Pandas Profiling Report',explorative=True)\n"
   ]
  },
  {
   "cell_type": "code",
   "execution_count": 68,
   "metadata": {},
   "outputs": [
    {
     "data": {
      "application/vnd.jupyter.widget-view+json": {
       "model_id": "43c388e296c448618cf9ec59a13b482f",
       "version_major": 2,
       "version_minor": 0
      },
      "text/plain": [
       "HBox(children=(FloatProgress(value=0.0, description='Summarize dataset', max=27.0, style=ProgressStyle(descrip…"
      ]
     },
     "metadata": {},
     "output_type": "display_data"
    },
    {
     "name": "stdout",
     "output_type": "stream",
     "text": [
      "\n"
     ]
    },
    {
     "data": {
      "application/vnd.jupyter.widget-view+json": {
       "model_id": "4b06bbe7351e46b68d8e266f4624eb47",
       "version_major": 2,
       "version_minor": 0
      },
      "text/plain": [
       "HBox(children=(FloatProgress(value=0.0, description='Generate report structure', max=1.0, style=ProgressStyle(…"
      ]
     },
     "metadata": {},
     "output_type": "display_data"
    },
    {
     "name": "stdout",
     "output_type": "stream",
     "text": [
      "\n"
     ]
    },
    {
     "data": {
      "application/vnd.jupyter.widget-view+json": {
       "model_id": "",
       "version_major": 2,
       "version_minor": 0
      },
      "text/plain": [
       "HBox(children=(FloatProgress(value=0.0, description='Render widgets', max=1.0, style=ProgressStyle(description…"
      ]
     },
     "metadata": {},
     "output_type": "display_data"
    },
    {
     "data": {
      "application/vnd.jupyter.widget-view+json": {
       "model_id": "1c11591edfb445e58d54fadbfdcc5328",
       "version_major": 2,
       "version_minor": 0
      },
      "text/plain": [
       "VBox(children=(Tab(children=(Tab(children=(GridBox(children=(VBox(children=(GridspecLayout(children=(HTML(valu…"
      ]
     },
     "metadata": {},
     "output_type": "display_data"
    }
   ],
   "source": [
    "profile.to_widgets()"
   ]
  },
  {
   "cell_type": "markdown",
   "metadata": {},
   "source": [
    "### There is a good correlation between Credit His and CPL_Status"
   ]
  },
  {
   "cell_type": "code",
   "execution_count": 342,
   "metadata": {},
   "outputs": [
    {
     "data": {
      "text/plain": [
       "MinMaxScaler(copy=True, feature_range=(0, 1))"
      ]
     },
     "execution_count": 342,
     "metadata": {},
     "output_type": "execute_result"
    }
   ],
   "source": [
    "feature_scale=[feature for feature in data1.columns if feature not in ['SE_Y']]\n",
    "from sklearn.preprocessing import MinMaxScaler\n",
    "scaler=MinMaxScaler()\n",
    "scaler.fit(data1[feature_scale])"
   ]
  },
  {
   "cell_type": "code",
   "execution_count": 343,
   "metadata": {},
   "outputs": [],
   "source": [
    "data2=pd.DataFrame(scaler.transform(data1[feature_scale]),columns=feature_scale)"
   ]
  },
  {
   "cell_type": "code",
   "execution_count": 344,
   "metadata": {},
   "outputs": [],
   "source": [
    "data2['SE_Y']=data1['SE_Y']"
   ]
  },
  {
   "cell_type": "code",
   "execution_count": 345,
   "metadata": {},
   "outputs": [
    {
     "data": {
      "text/html": [
       "<div>\n",
       "<style scoped>\n",
       "    .dataframe tbody tr th:only-of-type {\n",
       "        vertical-align: middle;\n",
       "    }\n",
       "\n",
       "    .dataframe tbody tr th {\n",
       "        vertical-align: top;\n",
       "    }\n",
       "\n",
       "    .dataframe thead th {\n",
       "        text-align: right;\n",
       "    }\n",
       "</style>\n",
       "<table border=\"1\" class=\"dataframe\">\n",
       "  <thead>\n",
       "    <tr style=\"text-align: right;\">\n",
       "      <th></th>\n",
       "      <th>Dependents</th>\n",
       "      <th>Qual_var</th>\n",
       "      <th>App_Income_1</th>\n",
       "      <th>App_Income_2</th>\n",
       "      <th>CPL_Amount</th>\n",
       "      <th>CPL_Term</th>\n",
       "      <th>Credit_His</th>\n",
       "      <th>Prop_Area</th>\n",
       "      <th>CPL_Status</th>\n",
       "      <th>Sex_M</th>\n",
       "      <th>Sex_O</th>\n",
       "      <th>Marital_Status_Y</th>\n",
       "      <th>SE_Y</th>\n",
       "    </tr>\n",
       "  </thead>\n",
       "  <tbody>\n",
       "    <tr>\n",
       "      <th>0</th>\n",
       "      <td>1.000000</td>\n",
       "      <td>1.0</td>\n",
       "      <td>0.070489</td>\n",
       "      <td>0.000000</td>\n",
       "      <td>0.172214</td>\n",
       "      <td>0.74359</td>\n",
       "      <td>1.0</td>\n",
       "      <td>1.0</td>\n",
       "      <td>1.0</td>\n",
       "      <td>1.0</td>\n",
       "      <td>0.0</td>\n",
       "      <td>0.0</td>\n",
       "      <td>0</td>\n",
       "    </tr>\n",
       "    <tr>\n",
       "      <th>1</th>\n",
       "      <td>0.666667</td>\n",
       "      <td>1.0</td>\n",
       "      <td>0.054830</td>\n",
       "      <td>0.036192</td>\n",
       "      <td>0.172214</td>\n",
       "      <td>0.74359</td>\n",
       "      <td>1.0</td>\n",
       "      <td>0.0</td>\n",
       "      <td>0.0</td>\n",
       "      <td>1.0</td>\n",
       "      <td>0.0</td>\n",
       "      <td>1.0</td>\n",
       "      <td>0</td>\n",
       "    </tr>\n",
       "    <tr>\n",
       "      <th>2</th>\n",
       "      <td>1.000000</td>\n",
       "      <td>1.0</td>\n",
       "      <td>0.035250</td>\n",
       "      <td>0.000000</td>\n",
       "      <td>0.082489</td>\n",
       "      <td>0.74359</td>\n",
       "      <td>1.0</td>\n",
       "      <td>1.0</td>\n",
       "      <td>1.0</td>\n",
       "      <td>1.0</td>\n",
       "      <td>0.0</td>\n",
       "      <td>1.0</td>\n",
       "      <td>1</td>\n",
       "    </tr>\n",
       "    <tr>\n",
       "      <th>3</th>\n",
       "      <td>1.000000</td>\n",
       "      <td>0.0</td>\n",
       "      <td>0.030093</td>\n",
       "      <td>0.056592</td>\n",
       "      <td>0.160637</td>\n",
       "      <td>0.74359</td>\n",
       "      <td>1.0</td>\n",
       "      <td>1.0</td>\n",
       "      <td>1.0</td>\n",
       "      <td>1.0</td>\n",
       "      <td>0.0</td>\n",
       "      <td>1.0</td>\n",
       "      <td>0</td>\n",
       "    </tr>\n",
       "    <tr>\n",
       "      <th>4</th>\n",
       "      <td>1.000000</td>\n",
       "      <td>1.0</td>\n",
       "      <td>0.072356</td>\n",
       "      <td>0.000000</td>\n",
       "      <td>0.191027</td>\n",
       "      <td>0.74359</td>\n",
       "      <td>1.0</td>\n",
       "      <td>1.0</td>\n",
       "      <td>1.0</td>\n",
       "      <td>1.0</td>\n",
       "      <td>0.0</td>\n",
       "      <td>0.0</td>\n",
       "      <td>0</td>\n",
       "    </tr>\n",
       "  </tbody>\n",
       "</table>\n",
       "</div>"
      ],
      "text/plain": [
       "   Dependents  Qual_var  App_Income_1  App_Income_2  CPL_Amount  CPL_Term  \\\n",
       "0    1.000000       1.0      0.070489      0.000000    0.172214   0.74359   \n",
       "1    0.666667       1.0      0.054830      0.036192    0.172214   0.74359   \n",
       "2    1.000000       1.0      0.035250      0.000000    0.082489   0.74359   \n",
       "3    1.000000       0.0      0.030093      0.056592    0.160637   0.74359   \n",
       "4    1.000000       1.0      0.072356      0.000000    0.191027   0.74359   \n",
       "\n",
       "   Credit_His  Prop_Area  CPL_Status  Sex_M  Sex_O  Marital_Status_Y  SE_Y  \n",
       "0         1.0        1.0         1.0    1.0    0.0               0.0     0  \n",
       "1         1.0        0.0         0.0    1.0    0.0               1.0     0  \n",
       "2         1.0        1.0         1.0    1.0    0.0               1.0     1  \n",
       "3         1.0        1.0         1.0    1.0    0.0               1.0     0  \n",
       "4         1.0        1.0         1.0    1.0    0.0               0.0     0  "
      ]
     },
     "execution_count": 345,
     "metadata": {},
     "output_type": "execute_result"
    }
   ],
   "source": [
    "data2.head()"
   ]
  },
  {
   "cell_type": "markdown",
   "metadata": {},
   "source": [
    "# Model Selection"
   ]
  },
  {
   "cell_type": "code",
   "execution_count": 346,
   "metadata": {},
   "outputs": [],
   "source": [
    "from sklearn.preprocessing import OneHotEncoder, LabelEncoder, label_binarize\n",
    "from sklearn.model_selection import train_test_split\n",
    "from sklearn.linear_model import LinearRegression,LogisticRegression,SGDClassifier\n",
    "from sklearn.model_selection import GridSearchCV, cross_val_predict\n",
    "from sklearn.ensemble import GradientBoostingClassifier\n",
    "from sklearn.neighbors import KNeighborsClassifier\n",
    "from sklearn.naive_bayes import GaussianNB\n",
    "from sklearn.tree import DecisionTreeClassifier\n",
    "from sklearn.svm import LinearSVC\n",
    "from sklearn import model_selection, tree, preprocessing, metrics, linear_model"
   ]
  },
  {
   "cell_type": "code",
   "execution_count": 347,
   "metadata": {},
   "outputs": [],
   "source": [
    "X_train, X_test, y_train, y_test = train_test_split(data2.drop('CPL_Status',axis=1), \n",
    "                                                    data2['CPL_Status'], test_size=0.20, \n",
    "                                                    random_state=101)"
   ]
  },
  {
   "cell_type": "markdown",
   "metadata": {},
   "source": [
    "### Logistic Regression"
   ]
  },
  {
   "cell_type": "code",
   "execution_count": 348,
   "metadata": {},
   "outputs": [
    {
     "data": {
      "text/plain": [
       "LogisticRegression(C=1.0, class_weight=None, dual=False, fit_intercept=True,\n",
       "                   intercept_scaling=1, l1_ratio=None, max_iter=100,\n",
       "                   multi_class='auto', n_jobs=None, penalty='l2',\n",
       "                   random_state=None, solver='lbfgs', tol=0.0001, verbose=0,\n",
       "                   warm_start=False)"
      ]
     },
     "execution_count": 348,
     "metadata": {},
     "output_type": "execute_result"
    }
   ],
   "source": [
    "logmodel = LogisticRegression()\n",
    "logmodel.fit(X_train,y_train)"
   ]
  },
  {
   "cell_type": "code",
   "execution_count": 349,
   "metadata": {},
   "outputs": [],
   "source": [
    "predictions = logmodel.predict(X_test)"
   ]
  },
  {
   "cell_type": "code",
   "execution_count": 350,
   "metadata": {},
   "outputs": [
    {
     "data": {
      "text/plain": [
       "0.7967479674796748"
      ]
     },
     "execution_count": 350,
     "metadata": {},
     "output_type": "execute_result"
    }
   ],
   "source": [
    "from sklearn.metrics import accuracy_score\n",
    "accuracy=accuracy_score(y_test,predictions)\n",
    "accuracy"
   ]
  },
  {
   "cell_type": "code",
   "execution_count": 351,
   "metadata": {},
   "outputs": [
    {
     "name": "stdout",
     "output_type": "stream",
     "text": [
      "              precision    recall  f1-score   support\n",
      "\n",
      "         0.0       0.95      0.47      0.63        45\n",
      "         1.0       0.76      0.99      0.86        78\n",
      "\n",
      "    accuracy                           0.80       123\n",
      "   macro avg       0.86      0.73      0.74       123\n",
      "weighted avg       0.83      0.80      0.77       123\n",
      "\n"
     ]
    }
   ],
   "source": [
    "from sklearn.metrics import classification_report\n",
    "print(classification_report(y_test,predictions))"
   ]
  },
  {
   "cell_type": "markdown",
   "metadata": {},
   "source": [
    "### Kneighbors"
   ]
  },
  {
   "cell_type": "code",
   "execution_count": 352,
   "metadata": {},
   "outputs": [
    {
     "data": {
      "text/plain": [
       "KNeighborsClassifier(algorithm='auto', leaf_size=30, metric='minkowski',\n",
       "                     metric_params=None, n_jobs=None, n_neighbors=5, p=2,\n",
       "                     weights='uniform')"
      ]
     },
     "execution_count": 352,
     "metadata": {},
     "output_type": "execute_result"
    }
   ],
   "source": [
    "#\n",
    "model=KNeighborsClassifier()\n",
    "model.fit(X_train,y_train)"
   ]
  },
  {
   "cell_type": "code",
   "execution_count": 353,
   "metadata": {},
   "outputs": [],
   "source": [
    "predictions=model.predict(X_test)"
   ]
  },
  {
   "cell_type": "code",
   "execution_count": 354,
   "metadata": {},
   "outputs": [
    {
     "data": {
      "text/plain": [
       "0.7886178861788617"
      ]
     },
     "execution_count": 354,
     "metadata": {},
     "output_type": "execute_result"
    }
   ],
   "source": [
    "accuracy=accuracy_score(y_test,predictions)\n",
    "accuracy"
   ]
  },
  {
   "cell_type": "markdown",
   "metadata": {},
   "source": [
    "### Linear SVC"
   ]
  },
  {
   "cell_type": "code",
   "execution_count": 355,
   "metadata": {},
   "outputs": [
    {
     "data": {
      "text/plain": [
       "LinearSVC(C=1.0, class_weight=None, dual=True, fit_intercept=True,\n",
       "          intercept_scaling=1, loss='squared_hinge', max_iter=1000,\n",
       "          multi_class='ovr', penalty='l2', random_state=None, tol=0.0001,\n",
       "          verbose=0)"
      ]
     },
     "execution_count": 355,
     "metadata": {},
     "output_type": "execute_result"
    }
   ],
   "source": [
    "model=LinearSVC()\n",
    "model.fit(X_train,y_train)"
   ]
  },
  {
   "cell_type": "code",
   "execution_count": 356,
   "metadata": {},
   "outputs": [],
   "source": [
    "predictions=model.predict(X_test)"
   ]
  },
  {
   "cell_type": "code",
   "execution_count": 357,
   "metadata": {},
   "outputs": [
    {
     "data": {
      "text/plain": [
       "0.7967479674796748"
      ]
     },
     "execution_count": 357,
     "metadata": {},
     "output_type": "execute_result"
    }
   ],
   "source": [
    "accuracy=accuracy_score(y_test,predictions)\n",
    "accuracy"
   ]
  },
  {
   "cell_type": "code",
   "execution_count": 358,
   "metadata": {},
   "outputs": [
    {
     "name": "stdout",
     "output_type": "stream",
     "text": [
      "              precision    recall  f1-score   support\n",
      "\n",
      "         0.0       0.95      0.47      0.63        45\n",
      "         1.0       0.76      0.99      0.86        78\n",
      "\n",
      "    accuracy                           0.80       123\n",
      "   macro avg       0.86      0.73      0.74       123\n",
      "weighted avg       0.83      0.80      0.77       123\n",
      "\n"
     ]
    }
   ],
   "source": [
    "print(classification_report(y_test,predictions))"
   ]
  },
  {
   "cell_type": "markdown",
   "metadata": {},
   "source": [
    "### Naive Bayes"
   ]
  },
  {
   "cell_type": "code",
   "execution_count": 359,
   "metadata": {},
   "outputs": [
    {
     "data": {
      "text/plain": [
       "GaussianNB(priors=None, var_smoothing=1e-09)"
      ]
     },
     "execution_count": 359,
     "metadata": {},
     "output_type": "execute_result"
    }
   ],
   "source": [
    "model=GaussianNB()\n",
    "model.fit(X_train,y_train)"
   ]
  },
  {
   "cell_type": "code",
   "execution_count": 360,
   "metadata": {},
   "outputs": [],
   "source": [
    "predictions=model.predict(X_test)"
   ]
  },
  {
   "cell_type": "code",
   "execution_count": 361,
   "metadata": {},
   "outputs": [
    {
     "data": {
      "text/plain": [
       "0.7642276422764228"
      ]
     },
     "execution_count": 361,
     "metadata": {},
     "output_type": "execute_result"
    }
   ],
   "source": [
    "accuracy=accuracy_score(y_test,predictions)\n",
    "accuracy"
   ]
  },
  {
   "cell_type": "markdown",
   "metadata": {},
   "source": [
    "### Decision Tree"
   ]
  },
  {
   "cell_type": "code",
   "execution_count": 362,
   "metadata": {},
   "outputs": [
    {
     "data": {
      "text/plain": [
       "DecisionTreeClassifier(ccp_alpha=0.0, class_weight=None, criterion='gini',\n",
       "                       max_depth=None, max_features=None, max_leaf_nodes=None,\n",
       "                       min_impurity_decrease=0.0, min_impurity_split=None,\n",
       "                       min_samples_leaf=1, min_samples_split=2,\n",
       "                       min_weight_fraction_leaf=0.0, presort='deprecated',\n",
       "                       random_state=None, splitter='best')"
      ]
     },
     "execution_count": 362,
     "metadata": {},
     "output_type": "execute_result"
    }
   ],
   "source": [
    "model=DecisionTreeClassifier()\n",
    "model.fit(X_train,y_train)"
   ]
  },
  {
   "cell_type": "code",
   "execution_count": 363,
   "metadata": {},
   "outputs": [],
   "source": [
    "predictions=model.predict(X_test)"
   ]
  },
  {
   "cell_type": "code",
   "execution_count": 364,
   "metadata": {},
   "outputs": [
    {
     "data": {
      "text/plain": [
       "0.6747967479674797"
      ]
     },
     "execution_count": 364,
     "metadata": {},
     "output_type": "execute_result"
    }
   ],
   "source": [
    "accuracy=accuracy_score(y_test,predictions)\n",
    "accuracy"
   ]
  },
  {
   "cell_type": "code",
   "execution_count": 365,
   "metadata": {},
   "outputs": [
    {
     "name": "stdout",
     "output_type": "stream",
     "text": [
      "              precision    recall  f1-score   support\n",
      "\n",
      "         0.0       0.56      0.56      0.56        45\n",
      "         1.0       0.74      0.74      0.74        78\n",
      "\n",
      "    accuracy                           0.67       123\n",
      "   macro avg       0.65      0.65      0.65       123\n",
      "weighted avg       0.67      0.67      0.67       123\n",
      "\n"
     ]
    }
   ],
   "source": [
    "print(classification_report(y_test,predictions))"
   ]
  },
  {
   "cell_type": "markdown",
   "metadata": {},
   "source": [
    "### Gradient Boosting"
   ]
  },
  {
   "cell_type": "code",
   "execution_count": 366,
   "metadata": {},
   "outputs": [
    {
     "data": {
      "text/plain": [
       "GradientBoostingClassifier(ccp_alpha=0.0, criterion='friedman_mse', init=None,\n",
       "                           learning_rate=0.1, loss='deviance', max_depth=3,\n",
       "                           max_features=None, max_leaf_nodes=None,\n",
       "                           min_impurity_decrease=0.0, min_impurity_split=None,\n",
       "                           min_samples_leaf=1, min_samples_split=2,\n",
       "                           min_weight_fraction_leaf=0.0, n_estimators=280,\n",
       "                           n_iter_no_change=None, presort='deprecated',\n",
       "                           random_state=None, subsample=1.0, tol=0.0001,\n",
       "                           validation_fraction=0.1, verbose=0,\n",
       "                           warm_start=False)"
      ]
     },
     "execution_count": 366,
     "metadata": {},
     "output_type": "execute_result"
    }
   ],
   "source": [
    "Gmodel=GradientBoostingClassifier(n_estimators=280)\n",
    "Gmodel.fit(X_train,y_train)"
   ]
  },
  {
   "cell_type": "code",
   "execution_count": 367,
   "metadata": {},
   "outputs": [],
   "source": [
    "predictions=Gmodel.predict(X_test)"
   ]
  },
  {
   "cell_type": "code",
   "execution_count": 368,
   "metadata": {},
   "outputs": [
    {
     "data": {
      "text/plain": [
       "0.7560975609756098"
      ]
     },
     "execution_count": 368,
     "metadata": {},
     "output_type": "execute_result"
    }
   ],
   "source": [
    "accuracy=accuracy_score(y_test,predictions)\n",
    "accuracy"
   ]
  },
  {
   "cell_type": "code",
   "execution_count": 369,
   "metadata": {},
   "outputs": [
    {
     "name": "stdout",
     "output_type": "stream",
     "text": [
      "              precision    recall  f1-score   support\n",
      "\n",
      "         0.0       0.73      0.53      0.62        45\n",
      "         1.0       0.77      0.88      0.82        78\n",
      "\n",
      "    accuracy                           0.76       123\n",
      "   macro avg       0.75      0.71      0.72       123\n",
      "weighted avg       0.75      0.76      0.75       123\n",
      "\n"
     ]
    }
   ],
   "source": [
    "print(classification_report(y_test,predictions))"
   ]
  },
  {
   "cell_type": "markdown",
   "metadata": {},
   "source": [
    "### Random Forest"
   ]
  },
  {
   "cell_type": "code",
   "execution_count": 370,
   "metadata": {},
   "outputs": [],
   "source": [
    "from sklearn.ensemble import RandomForestClassifier"
   ]
  },
  {
   "cell_type": "code",
   "execution_count": 371,
   "metadata": {},
   "outputs": [],
   "source": [
    "model=RandomForestClassifier()"
   ]
  },
  {
   "cell_type": "code",
   "execution_count": 372,
   "metadata": {},
   "outputs": [
    {
     "data": {
      "text/plain": [
       "RandomForestClassifier(bootstrap=True, ccp_alpha=0.0, class_weight=None,\n",
       "                       criterion='gini', max_depth=None, max_features='auto',\n",
       "                       max_leaf_nodes=None, max_samples=None,\n",
       "                       min_impurity_decrease=0.0, min_impurity_split=None,\n",
       "                       min_samples_leaf=1, min_samples_split=2,\n",
       "                       min_weight_fraction_leaf=0.0, n_estimators=100,\n",
       "                       n_jobs=None, oob_score=False, random_state=None,\n",
       "                       verbose=0, warm_start=False)"
      ]
     },
     "execution_count": 372,
     "metadata": {},
     "output_type": "execute_result"
    }
   ],
   "source": [
    "model.fit(X_train,y_train)"
   ]
  },
  {
   "cell_type": "code",
   "execution_count": 373,
   "metadata": {},
   "outputs": [],
   "source": [
    "predictions=model.predict(X_test)"
   ]
  },
  {
   "cell_type": "code",
   "execution_count": 374,
   "metadata": {},
   "outputs": [
    {
     "data": {
      "text/plain": [
       "0.7804878048780488"
      ]
     },
     "execution_count": 374,
     "metadata": {},
     "output_type": "execute_result"
    }
   ],
   "source": [
    "accuracy=accuracy_score(y_test,predictions)\n",
    "accuracy"
   ]
  },
  {
   "cell_type": "code",
   "execution_count": 375,
   "metadata": {},
   "outputs": [
    {
     "name": "stdout",
     "output_type": "stream",
     "text": [
      "              precision    recall  f1-score   support\n",
      "\n",
      "         0.0       0.88      0.47      0.61        45\n",
      "         1.0       0.76      0.96      0.85        78\n",
      "\n",
      "    accuracy                           0.78       123\n",
      "   macro avg       0.82      0.71      0.73       123\n",
      "weighted avg       0.80      0.78      0.76       123\n",
      "\n"
     ]
    }
   ],
   "source": [
    "print(classification_report(y_test,predictions))"
   ]
  },
  {
   "cell_type": "markdown",
   "metadata": {},
   "source": [
    "### Hyper parameter tuning"
   ]
  },
  {
   "cell_type": "code",
   "execution_count": 376,
   "metadata": {},
   "outputs": [],
   "source": [
    "random_grid={'bootstrap': [True, False],\n",
    " 'max_depth': [10, 20, 30, 40, 50, 60, 70, 80, 90, 100, None],\n",
    " 'max_features': ['auto', 'sqrt'],\n",
    " 'min_samples_leaf': [1, 2, 4],\n",
    " 'min_samples_split': [2, 5, 10],\n",
    " 'n_estimators': [200, 400, 600, 800, 1000, 1200, 1400, 1600, 1800, 2000]}"
   ]
  },
  {
   "cell_type": "code",
   "execution_count": 377,
   "metadata": {},
   "outputs": [],
   "source": [
    "from sklearn.model_selection import RandomizedSearchCV"
   ]
  },
  {
   "cell_type": "code",
   "execution_count": 378,
   "metadata": {},
   "outputs": [],
   "source": [
    "rf_random = RandomizedSearchCV(estimator = model, param_distributions = random_grid, n_iter = 100, cv = 3, verbose=2, random_state=42, n_jobs = -1)"
   ]
  },
  {
   "cell_type": "code",
   "execution_count": 223,
   "metadata": {},
   "outputs": [
    {
     "name": "stdout",
     "output_type": "stream",
     "text": [
      "Fitting 3 folds for each of 100 candidates, totalling 300 fits\n"
     ]
    },
    {
     "name": "stderr",
     "output_type": "stream",
     "text": [
      "[Parallel(n_jobs=-1)]: Using backend LokyBackend with 8 concurrent workers.\n",
      "[Parallel(n_jobs=-1)]: Done  25 tasks      | elapsed:   26.1s\n",
      "[Parallel(n_jobs=-1)]: Done 146 tasks      | elapsed:  1.7min\n",
      "[Parallel(n_jobs=-1)]: Done 300 out of 300 | elapsed:  3.6min finished\n"
     ]
    },
    {
     "data": {
      "text/plain": [
       "RandomizedSearchCV(cv=3, error_score=nan,\n",
       "                   estimator=RandomForestClassifier(bootstrap=True,\n",
       "                                                    ccp_alpha=0.0,\n",
       "                                                    class_weight=None,\n",
       "                                                    criterion='gini',\n",
       "                                                    max_depth=None,\n",
       "                                                    max_features='auto',\n",
       "                                                    max_leaf_nodes=None,\n",
       "                                                    max_samples=None,\n",
       "                                                    min_impurity_decrease=0.0,\n",
       "                                                    min_impurity_split=None,\n",
       "                                                    min_samples_leaf=1,\n",
       "                                                    min_samples_split=2,\n",
       "                                                    min_weight_fraction_leaf=0.0,\n",
       "                                                    n_estimators=100,\n",
       "                                                    n_jobs...\n",
       "                   iid='deprecated', n_iter=100, n_jobs=-1,\n",
       "                   param_distributions={'bootstrap': [True, False],\n",
       "                                        'max_depth': [10, 20, 30, 40, 50, 60,\n",
       "                                                      70, 80, 90, 100, None],\n",
       "                                        'max_features': ['auto', 'sqrt'],\n",
       "                                        'min_samples_leaf': [1, 2, 4],\n",
       "                                        'min_samples_split': [2, 5, 10],\n",
       "                                        'n_estimators': [200, 400, 600, 800,\n",
       "                                                         1000, 1200, 1400, 1600,\n",
       "                                                         1800, 2000]},\n",
       "                   pre_dispatch='2*n_jobs', random_state=42, refit=True,\n",
       "                   return_train_score=False, scoring=None, verbose=2)"
      ]
     },
     "execution_count": 223,
     "metadata": {},
     "output_type": "execute_result"
    }
   ],
   "source": [
    "rf_random.fit(X_train,y_train)"
   ]
  },
  {
   "cell_type": "code",
   "execution_count": 227,
   "metadata": {},
   "outputs": [
    {
     "data": {
      "text/plain": [
       "RandomForestClassifier(bootstrap=True, ccp_alpha=0.0, class_weight=None,\n",
       "                       criterion='gini', max_depth=90, max_features='auto',\n",
       "                       max_leaf_nodes=None, max_samples=None,\n",
       "                       min_impurity_decrease=0.0, min_impurity_split=None,\n",
       "                       min_samples_leaf=2, min_samples_split=10,\n",
       "                       min_weight_fraction_leaf=0.0, n_estimators=200,\n",
       "                       n_jobs=None, oob_score=False, random_state=None,\n",
       "                       verbose=0, warm_start=False)"
      ]
     },
     "execution_count": 227,
     "metadata": {},
     "output_type": "execute_result"
    }
   ],
   "source": [
    "\n",
    "rf_random.best_estimator_"
   ]
  },
  {
   "cell_type": "code",
   "execution_count": 379,
   "metadata": {},
   "outputs": [],
   "source": [
    "model=RandomForestClassifier(bootstrap=True, ccp_alpha=0.0, class_weight=None,\n",
    "                       criterion='gini', max_depth=90, max_features='auto',\n",
    "                       max_leaf_nodes=None, max_samples=None,\n",
    "                       min_impurity_decrease=0.0, min_impurity_split=None,\n",
    "                       min_samples_leaf=2, min_samples_split=10,\n",
    "                       min_weight_fraction_leaf=0.0, n_estimators=200,\n",
    "                       n_jobs=None, oob_score=False, random_state=None,\n",
    "                       verbose=0, warm_start=False)\n"
   ]
  },
  {
   "cell_type": "code",
   "execution_count": 380,
   "metadata": {},
   "outputs": [
    {
     "data": {
      "text/plain": [
       "RandomForestClassifier(bootstrap=True, ccp_alpha=0.0, class_weight=None,\n",
       "                       criterion='gini', max_depth=90, max_features='auto',\n",
       "                       max_leaf_nodes=None, max_samples=None,\n",
       "                       min_impurity_decrease=0.0, min_impurity_split=None,\n",
       "                       min_samples_leaf=2, min_samples_split=10,\n",
       "                       min_weight_fraction_leaf=0.0, n_estimators=200,\n",
       "                       n_jobs=None, oob_score=False, random_state=None,\n",
       "                       verbose=0, warm_start=False)"
      ]
     },
     "execution_count": 380,
     "metadata": {},
     "output_type": "execute_result"
    }
   ],
   "source": [
    "model.fit(X_train,y_train)"
   ]
  },
  {
   "cell_type": "code",
   "execution_count": 381,
   "metadata": {},
   "outputs": [],
   "source": [
    "predictions=model.predict(X_test)"
   ]
  },
  {
   "cell_type": "code",
   "execution_count": 382,
   "metadata": {},
   "outputs": [
    {
     "data": {
      "text/plain": [
       "0.7967479674796748"
      ]
     },
     "execution_count": 382,
     "metadata": {},
     "output_type": "execute_result"
    }
   ],
   "source": [
    "accuracy=accuracy_score(y_test,predictions)\n",
    "accuracy"
   ]
  },
  {
   "cell_type": "code",
   "execution_count": 383,
   "metadata": {},
   "outputs": [
    {
     "name": "stdout",
     "output_type": "stream",
     "text": [
      "              precision    recall  f1-score   support\n",
      "\n",
      "         0.0       0.95      0.47      0.63        45\n",
      "         1.0       0.76      0.99      0.86        78\n",
      "\n",
      "    accuracy                           0.80       123\n",
      "   macro avg       0.86      0.73      0.74       123\n",
      "weighted avg       0.83      0.80      0.77       123\n",
      "\n"
     ]
    }
   ],
   "source": [
    "print(classification_report(y_test,predictions))"
   ]
  },
  {
   "cell_type": "code",
   "execution_count": 233,
   "metadata": {},
   "outputs": [
    {
     "data": {
      "text/plain": [
       "array([1., 1., 1., 0., 1., 0., 1., 1., 1., 1., 1., 1., 0., 1., 1., 1., 1.,\n",
       "       1., 1., 1., 1., 1., 0., 1., 1., 1., 1., 1., 1., 1., 1., 1., 1., 0.,\n",
       "       1., 1., 1., 1., 1., 0., 1., 1., 1., 1., 1., 1., 1., 1., 1., 1., 1.,\n",
       "       1., 1., 1., 1., 0., 0., 1., 1., 1., 1., 1., 0., 1., 1., 1., 1., 0.,\n",
       "       1., 0., 1., 0., 1., 1., 0., 1., 1., 1., 1., 1., 0., 1., 1., 0., 0.,\n",
       "       1., 1., 1., 1., 0., 1., 1., 1., 1., 1., 1., 1., 1., 1., 1., 1., 1.,\n",
       "       1., 1., 1., 1., 1., 0., 1., 1., 0., 0., 1., 0., 1., 1., 1., 0., 1.,\n",
       "       1., 1., 1., 0.])"
      ]
     },
     "execution_count": 233,
     "metadata": {},
     "output_type": "execute_result"
    }
   ],
   "source": [
    "predictions"
   ]
  },
  {
   "cell_type": "markdown",
   "metadata": {},
   "source": [
    "# test dataset"
   ]
  },
  {
   "cell_type": "code",
   "execution_count": 277,
   "metadata": {},
   "outputs": [],
   "source": [
    "df1=pd.read_excel(r'F:\\Data analysis\\Edulyt India\\Project - 4 - Test Data.xlsx')"
   ]
  },
  {
   "cell_type": "code",
   "execution_count": 278,
   "metadata": {},
   "outputs": [
    {
     "data": {
      "text/html": [
       "<div>\n",
       "<style scoped>\n",
       "    .dataframe tbody tr th:only-of-type {\n",
       "        vertical-align: middle;\n",
       "    }\n",
       "\n",
       "    .dataframe tbody tr th {\n",
       "        vertical-align: top;\n",
       "    }\n",
       "\n",
       "    .dataframe thead th {\n",
       "        text-align: right;\n",
       "    }\n",
       "</style>\n",
       "<table border=\"1\" class=\"dataframe\">\n",
       "  <thead>\n",
       "    <tr style=\"text-align: right;\">\n",
       "      <th></th>\n",
       "      <th>Loanapp_ID</th>\n",
       "      <th>Sex</th>\n",
       "      <th>Marital_Status</th>\n",
       "      <th>first_name</th>\n",
       "      <th>last_name</th>\n",
       "      <th>email</th>\n",
       "      <th>address</th>\n",
       "      <th>Dependents</th>\n",
       "      <th>Qual_var</th>\n",
       "      <th>SE</th>\n",
       "      <th>App_Income_1</th>\n",
       "      <th>App_Income_2</th>\n",
       "      <th>CPL_Amount</th>\n",
       "      <th>CPL_Term</th>\n",
       "      <th>Credit_His</th>\n",
       "      <th>INT_ID</th>\n",
       "      <th>Prev_ID</th>\n",
       "      <th>AGT_ID</th>\n",
       "      <th>Prop_Area</th>\n",
       "    </tr>\n",
       "  </thead>\n",
       "  <tbody>\n",
       "    <tr>\n",
       "      <th>0</th>\n",
       "      <td>CPL001015</td>\n",
       "      <td>M</td>\n",
       "      <td>Y</td>\n",
       "      <td>Dollie</td>\n",
       "      <td>Scafe</td>\n",
       "      <td>dscafe0@is.gd</td>\n",
       "      <td>02 Garrison Pass</td>\n",
       "      <td>0</td>\n",
       "      <td>Grad</td>\n",
       "      <td>N</td>\n",
       "      <td>6864.0</td>\n",
       "      <td>0.0</td>\n",
       "      <td>132.0</td>\n",
       "      <td>360.0</td>\n",
       "      <td>1.0</td>\n",
       "      <td>6869736235</td>\n",
       "      <td>79-489-1539</td>\n",
       "      <td>Mozilla/5.0 (Macintosh; U; Intel Mac OS X 10_6...</td>\n",
       "      <td>Urban</td>\n",
       "    </tr>\n",
       "    <tr>\n",
       "      <th>1</th>\n",
       "      <td>CPL001022</td>\n",
       "      <td>M</td>\n",
       "      <td>Y</td>\n",
       "      <td>Kim</td>\n",
       "      <td>Arne</td>\n",
       "      <td>karne9@infoseek.co.jp</td>\n",
       "      <td>6568 Dwight Point</td>\n",
       "      <td>1</td>\n",
       "      <td>Grad</td>\n",
       "      <td>N</td>\n",
       "      <td>3691.2</td>\n",
       "      <td>1800.0</td>\n",
       "      <td>151.2</td>\n",
       "      <td>360.0</td>\n",
       "      <td>1.0</td>\n",
       "      <td>3383749711</td>\n",
       "      <td>75-757-9174</td>\n",
       "      <td>Mozilla/5.0 (Macintosh; Intel Mac OS X 10_7_2)...</td>\n",
       "      <td>Urban</td>\n",
       "    </tr>\n",
       "    <tr>\n",
       "      <th>2</th>\n",
       "      <td>CPL001031</td>\n",
       "      <td>M</td>\n",
       "      <td>Y</td>\n",
       "      <td>Niccolo</td>\n",
       "      <td>Ramble</td>\n",
       "      <td>nramblef@gov.uk</td>\n",
       "      <td>3504 Lukken Park</td>\n",
       "      <td>2</td>\n",
       "      <td>Grad</td>\n",
       "      <td>N</td>\n",
       "      <td>6000.0</td>\n",
       "      <td>2160.0</td>\n",
       "      <td>249.6</td>\n",
       "      <td>360.0</td>\n",
       "      <td>1.0</td>\n",
       "      <td>7247894032</td>\n",
       "      <td>42-085-4345</td>\n",
       "      <td>Mozilla/5.0 (Windows NT 6.1; WOW64) AppleWebKi...</td>\n",
       "      <td>Urban</td>\n",
       "    </tr>\n",
       "    <tr>\n",
       "      <th>3</th>\n",
       "      <td>CPL001035</td>\n",
       "      <td>M</td>\n",
       "      <td>Y</td>\n",
       "      <td>Rabbi</td>\n",
       "      <td>Haig</td>\n",
       "      <td>rhaigg@tiny.cc</td>\n",
       "      <td>1334 Florence Way</td>\n",
       "      <td>2</td>\n",
       "      <td>Grad</td>\n",
       "      <td>N</td>\n",
       "      <td>2808.0</td>\n",
       "      <td>3055.2</td>\n",
       "      <td>120.0</td>\n",
       "      <td>360.0</td>\n",
       "      <td>NaN</td>\n",
       "      <td>3240492342</td>\n",
       "      <td>10-813-9695</td>\n",
       "      <td>Mozilla/5.0 (X11; Linux i686) AppleWebKit/534....</td>\n",
       "      <td>Urban</td>\n",
       "    </tr>\n",
       "    <tr>\n",
       "      <th>4</th>\n",
       "      <td>CPL001051</td>\n",
       "      <td>M</td>\n",
       "      <td>N</td>\n",
       "      <td>Gracie</td>\n",
       "      <td>Winear</td>\n",
       "      <td>gwinearj@devhub.com</td>\n",
       "      <td>9800 Ridge Oak Crossing</td>\n",
       "      <td>0</td>\n",
       "      <td>Non Grad</td>\n",
       "      <td>N</td>\n",
       "      <td>3931.2</td>\n",
       "      <td>0.0</td>\n",
       "      <td>93.6</td>\n",
       "      <td>360.0</td>\n",
       "      <td>1.0</td>\n",
       "      <td>1670564037</td>\n",
       "      <td>20-195-4948</td>\n",
       "      <td>Mozilla/5.0 (Windows NT 6.0) AppleWebKit/534.2...</td>\n",
       "      <td>Urban</td>\n",
       "    </tr>\n",
       "  </tbody>\n",
       "</table>\n",
       "</div>"
      ],
      "text/plain": [
       "  Loanapp_ID Sex Marital_Status first_name last_name                  email  \\\n",
       "0  CPL001015   M              Y     Dollie     Scafe          dscafe0@is.gd   \n",
       "1  CPL001022   M              Y        Kim      Arne  karne9@infoseek.co.jp   \n",
       "2  CPL001031   M              Y    Niccolo    Ramble        nramblef@gov.uk   \n",
       "3  CPL001035   M              Y      Rabbi      Haig         rhaigg@tiny.cc   \n",
       "4  CPL001051   M              N     Gracie    Winear    gwinearj@devhub.com   \n",
       "\n",
       "                   address Dependents  Qual_var SE  App_Income_1  \\\n",
       "0         02 Garrison Pass          0      Grad  N        6864.0   \n",
       "1        6568 Dwight Point          1      Grad  N        3691.2   \n",
       "2         3504 Lukken Park          2      Grad  N        6000.0   \n",
       "3        1334 Florence Way          2      Grad  N        2808.0   \n",
       "4  9800 Ridge Oak Crossing          0  Non Grad  N        3931.2   \n",
       "\n",
       "   App_Income_2  CPL_Amount  CPL_Term  Credit_His      INT_ID      Prev_ID  \\\n",
       "0           0.0       132.0     360.0         1.0  6869736235  79-489-1539   \n",
       "1        1800.0       151.2     360.0         1.0  3383749711  75-757-9174   \n",
       "2        2160.0       249.6     360.0         1.0  7247894032  42-085-4345   \n",
       "3        3055.2       120.0     360.0         NaN  3240492342  10-813-9695   \n",
       "4           0.0        93.6     360.0         1.0  1670564037  20-195-4948   \n",
       "\n",
       "                                              AGT_ID Prop_Area  \n",
       "0  Mozilla/5.0 (Macintosh; U; Intel Mac OS X 10_6...     Urban  \n",
       "1  Mozilla/5.0 (Macintosh; Intel Mac OS X 10_7_2)...     Urban  \n",
       "2  Mozilla/5.0 (Windows NT 6.1; WOW64) AppleWebKi...     Urban  \n",
       "3  Mozilla/5.0 (X11; Linux i686) AppleWebKit/534....     Urban  \n",
       "4  Mozilla/5.0 (Windows NT 6.0) AppleWebKit/534.2...     Urban  "
      ]
     },
     "execution_count": 278,
     "metadata": {},
     "output_type": "execute_result"
    }
   ],
   "source": [
    "df1.head()"
   ]
  },
  {
   "cell_type": "code",
   "execution_count": 279,
   "metadata": {},
   "outputs": [
    {
     "data": {
      "text/plain": [
       "Loanapp_ID         0\n",
       "Sex               11\n",
       "Marital_Status     0\n",
       "first_name         0\n",
       "last_name          0\n",
       "email              0\n",
       "address            0\n",
       "Dependents        10\n",
       "Qual_var           0\n",
       "SE                23\n",
       "App_Income_1       0\n",
       "App_Income_2       0\n",
       "CPL_Amount         0\n",
       "CPL_Term           6\n",
       "Credit_His        29\n",
       "INT_ID             0\n",
       "Prev_ID            0\n",
       "AGT_ID             0\n",
       "Prop_Area          0\n",
       "dtype: int64"
      ]
     },
     "execution_count": 279,
     "metadata": {},
     "output_type": "execute_result"
    }
   ],
   "source": [
    "df1.isnull().sum()"
   ]
  },
  {
   "cell_type": "code",
   "execution_count": 253,
   "metadata": {},
   "outputs": [
    {
     "data": {
      "text/plain": [
       "Loanapp_ID         0\n",
       "Sex               13\n",
       "Marital_Status     3\n",
       "first_name         0\n",
       "last_name          0\n",
       "email              0\n",
       "address            0\n",
       "Dependents        15\n",
       "Qual_var           0\n",
       "SE                32\n",
       "App_Income_1       0\n",
       "App_Income_2       0\n",
       "CPL_Amount         2\n",
       "CPL_Term          14\n",
       "Credit_His        50\n",
       "Prop_Area          0\n",
       "INT_ID             0\n",
       "Prev_ID            0\n",
       "AGT_ID             0\n",
       "CPL_Status         0\n",
       "dtype: int64"
      ]
     },
     "execution_count": 253,
     "metadata": {},
     "output_type": "execute_result"
    }
   ],
   "source": [
    "df.isnull().sum()"
   ]
  },
  {
   "cell_type": "code",
   "execution_count": 280,
   "metadata": {},
   "outputs": [],
   "source": [
    "df1['Sex'].fillna('O',inplace=True)"
   ]
  },
  {
   "cell_type": "code",
   "execution_count": 281,
   "metadata": {},
   "outputs": [],
   "source": [
    "df1['Marital_Status'].fillna('Y',inplace=True)"
   ]
  },
  {
   "cell_type": "code",
   "execution_count": 282,
   "metadata": {},
   "outputs": [],
   "source": [
    "df1['Dependents'].fillna(0,inplace=True)"
   ]
  },
  {
   "cell_type": "code",
   "execution_count": 283,
   "metadata": {},
   "outputs": [],
   "source": [
    "df1.SE.fillna('N',inplace=True)"
   ]
  },
  {
   "cell_type": "code",
   "execution_count": 284,
   "metadata": {},
   "outputs": [],
   "source": [
    "df1.CPL_Term.fillna(360.0,inplace=True)"
   ]
  },
  {
   "cell_type": "code",
   "execution_count": 285,
   "metadata": {},
   "outputs": [],
   "source": [
    "df1.Credit_His.fillna(1.0,inplace=True)"
   ]
  },
  {
   "cell_type": "code",
   "execution_count": 286,
   "metadata": {},
   "outputs": [
    {
     "data": {
      "text/plain": [
       "Loanapp_ID        0\n",
       "Sex               0\n",
       "Marital_Status    0\n",
       "first_name        0\n",
       "last_name         0\n",
       "email             0\n",
       "address           0\n",
       "Dependents        0\n",
       "Qual_var          0\n",
       "SE                0\n",
       "App_Income_1      0\n",
       "App_Income_2      0\n",
       "CPL_Amount        0\n",
       "CPL_Term          0\n",
       "Credit_His        0\n",
       "INT_ID            0\n",
       "Prev_ID           0\n",
       "AGT_ID            0\n",
       "Prop_Area         0\n",
       "dtype: int64"
      ]
     },
     "execution_count": 286,
     "metadata": {},
     "output_type": "execute_result"
    }
   ],
   "source": [
    "df1.isnull().sum()"
   ]
  },
  {
   "cell_type": "code",
   "execution_count": 287,
   "metadata": {},
   "outputs": [
    {
     "data": {
      "text/html": [
       "<div>\n",
       "<style scoped>\n",
       "    .dataframe tbody tr th:only-of-type {\n",
       "        vertical-align: middle;\n",
       "    }\n",
       "\n",
       "    .dataframe tbody tr th {\n",
       "        vertical-align: top;\n",
       "    }\n",
       "\n",
       "    .dataframe thead th {\n",
       "        text-align: right;\n",
       "    }\n",
       "</style>\n",
       "<table border=\"1\" class=\"dataframe\">\n",
       "  <thead>\n",
       "    <tr style=\"text-align: right;\">\n",
       "      <th></th>\n",
       "      <th>Loanapp_ID</th>\n",
       "      <th>Sex</th>\n",
       "      <th>Marital_Status</th>\n",
       "      <th>first_name</th>\n",
       "      <th>last_name</th>\n",
       "      <th>email</th>\n",
       "      <th>address</th>\n",
       "      <th>Dependents</th>\n",
       "      <th>Qual_var</th>\n",
       "      <th>SE</th>\n",
       "      <th>App_Income_1</th>\n",
       "      <th>App_Income_2</th>\n",
       "      <th>CPL_Amount</th>\n",
       "      <th>CPL_Term</th>\n",
       "      <th>Credit_His</th>\n",
       "      <th>INT_ID</th>\n",
       "      <th>Prev_ID</th>\n",
       "      <th>AGT_ID</th>\n",
       "      <th>Prop_Area</th>\n",
       "    </tr>\n",
       "  </thead>\n",
       "  <tbody>\n",
       "    <tr>\n",
       "      <th>0</th>\n",
       "      <td>CPL001015</td>\n",
       "      <td>M</td>\n",
       "      <td>Y</td>\n",
       "      <td>Dollie</td>\n",
       "      <td>Scafe</td>\n",
       "      <td>dscafe0@is.gd</td>\n",
       "      <td>02 Garrison Pass</td>\n",
       "      <td>0</td>\n",
       "      <td>Grad</td>\n",
       "      <td>N</td>\n",
       "      <td>6864.0</td>\n",
       "      <td>0.0</td>\n",
       "      <td>132.0</td>\n",
       "      <td>360.0</td>\n",
       "      <td>1.0</td>\n",
       "      <td>6869736235</td>\n",
       "      <td>79-489-1539</td>\n",
       "      <td>Mozilla/5.0 (Macintosh; U; Intel Mac OS X 10_6...</td>\n",
       "      <td>Urban</td>\n",
       "    </tr>\n",
       "    <tr>\n",
       "      <th>1</th>\n",
       "      <td>CPL001022</td>\n",
       "      <td>M</td>\n",
       "      <td>Y</td>\n",
       "      <td>Kim</td>\n",
       "      <td>Arne</td>\n",
       "      <td>karne9@infoseek.co.jp</td>\n",
       "      <td>6568 Dwight Point</td>\n",
       "      <td>1</td>\n",
       "      <td>Grad</td>\n",
       "      <td>N</td>\n",
       "      <td>3691.2</td>\n",
       "      <td>1800.0</td>\n",
       "      <td>151.2</td>\n",
       "      <td>360.0</td>\n",
       "      <td>1.0</td>\n",
       "      <td>3383749711</td>\n",
       "      <td>75-757-9174</td>\n",
       "      <td>Mozilla/5.0 (Macintosh; Intel Mac OS X 10_7_2)...</td>\n",
       "      <td>Urban</td>\n",
       "    </tr>\n",
       "    <tr>\n",
       "      <th>2</th>\n",
       "      <td>CPL001031</td>\n",
       "      <td>M</td>\n",
       "      <td>Y</td>\n",
       "      <td>Niccolo</td>\n",
       "      <td>Ramble</td>\n",
       "      <td>nramblef@gov.uk</td>\n",
       "      <td>3504 Lukken Park</td>\n",
       "      <td>2</td>\n",
       "      <td>Grad</td>\n",
       "      <td>N</td>\n",
       "      <td>6000.0</td>\n",
       "      <td>2160.0</td>\n",
       "      <td>249.6</td>\n",
       "      <td>360.0</td>\n",
       "      <td>1.0</td>\n",
       "      <td>7247894032</td>\n",
       "      <td>42-085-4345</td>\n",
       "      <td>Mozilla/5.0 (Windows NT 6.1; WOW64) AppleWebKi...</td>\n",
       "      <td>Urban</td>\n",
       "    </tr>\n",
       "    <tr>\n",
       "      <th>3</th>\n",
       "      <td>CPL001035</td>\n",
       "      <td>M</td>\n",
       "      <td>Y</td>\n",
       "      <td>Rabbi</td>\n",
       "      <td>Haig</td>\n",
       "      <td>rhaigg@tiny.cc</td>\n",
       "      <td>1334 Florence Way</td>\n",
       "      <td>2</td>\n",
       "      <td>Grad</td>\n",
       "      <td>N</td>\n",
       "      <td>2808.0</td>\n",
       "      <td>3055.2</td>\n",
       "      <td>120.0</td>\n",
       "      <td>360.0</td>\n",
       "      <td>1.0</td>\n",
       "      <td>3240492342</td>\n",
       "      <td>10-813-9695</td>\n",
       "      <td>Mozilla/5.0 (X11; Linux i686) AppleWebKit/534....</td>\n",
       "      <td>Urban</td>\n",
       "    </tr>\n",
       "    <tr>\n",
       "      <th>4</th>\n",
       "      <td>CPL001051</td>\n",
       "      <td>M</td>\n",
       "      <td>N</td>\n",
       "      <td>Gracie</td>\n",
       "      <td>Winear</td>\n",
       "      <td>gwinearj@devhub.com</td>\n",
       "      <td>9800 Ridge Oak Crossing</td>\n",
       "      <td>0</td>\n",
       "      <td>Non Grad</td>\n",
       "      <td>N</td>\n",
       "      <td>3931.2</td>\n",
       "      <td>0.0</td>\n",
       "      <td>93.6</td>\n",
       "      <td>360.0</td>\n",
       "      <td>1.0</td>\n",
       "      <td>1670564037</td>\n",
       "      <td>20-195-4948</td>\n",
       "      <td>Mozilla/5.0 (Windows NT 6.0) AppleWebKit/534.2...</td>\n",
       "      <td>Urban</td>\n",
       "    </tr>\n",
       "  </tbody>\n",
       "</table>\n",
       "</div>"
      ],
      "text/plain": [
       "  Loanapp_ID Sex Marital_Status first_name last_name                  email  \\\n",
       "0  CPL001015   M              Y     Dollie     Scafe          dscafe0@is.gd   \n",
       "1  CPL001022   M              Y        Kim      Arne  karne9@infoseek.co.jp   \n",
       "2  CPL001031   M              Y    Niccolo    Ramble        nramblef@gov.uk   \n",
       "3  CPL001035   M              Y      Rabbi      Haig         rhaigg@tiny.cc   \n",
       "4  CPL001051   M              N     Gracie    Winear    gwinearj@devhub.com   \n",
       "\n",
       "                   address Dependents  Qual_var SE  App_Income_1  \\\n",
       "0         02 Garrison Pass          0      Grad  N        6864.0   \n",
       "1        6568 Dwight Point          1      Grad  N        3691.2   \n",
       "2         3504 Lukken Park          2      Grad  N        6000.0   \n",
       "3        1334 Florence Way          2      Grad  N        2808.0   \n",
       "4  9800 Ridge Oak Crossing          0  Non Grad  N        3931.2   \n",
       "\n",
       "   App_Income_2  CPL_Amount  CPL_Term  Credit_His      INT_ID      Prev_ID  \\\n",
       "0           0.0       132.0     360.0         1.0  6869736235  79-489-1539   \n",
       "1        1800.0       151.2     360.0         1.0  3383749711  75-757-9174   \n",
       "2        2160.0       249.6     360.0         1.0  7247894032  42-085-4345   \n",
       "3        3055.2       120.0     360.0         1.0  3240492342  10-813-9695   \n",
       "4           0.0        93.6     360.0         1.0  1670564037  20-195-4948   \n",
       "\n",
       "                                              AGT_ID Prop_Area  \n",
       "0  Mozilla/5.0 (Macintosh; U; Intel Mac OS X 10_6...     Urban  \n",
       "1  Mozilla/5.0 (Macintosh; Intel Mac OS X 10_7_2)...     Urban  \n",
       "2  Mozilla/5.0 (Windows NT 6.1; WOW64) AppleWebKi...     Urban  \n",
       "3  Mozilla/5.0 (X11; Linux i686) AppleWebKit/534....     Urban  \n",
       "4  Mozilla/5.0 (Windows NT 6.0) AppleWebKit/534.2...     Urban  "
      ]
     },
     "execution_count": 287,
     "metadata": {},
     "output_type": "execute_result"
    }
   ],
   "source": [
    "df1.head()"
   ]
  },
  {
   "cell_type": "code",
   "execution_count": 288,
   "metadata": {},
   "outputs": [],
   "source": [
    "df1.drop(columns=['Loanapp_ID','first_name','last_name','email','address','INT_ID','Prev_ID','AGT_ID'],inplace=True)"
   ]
  },
  {
   "cell_type": "code",
   "execution_count": 289,
   "metadata": {},
   "outputs": [],
   "source": [
    "df1=pd.get_dummies(df1,columns=['Sex','Marital_Status','SE'],drop_first=True)"
   ]
  },
  {
   "cell_type": "code",
   "execution_count": 290,
   "metadata": {},
   "outputs": [
    {
     "data": {
      "text/html": [
       "<div>\n",
       "<style scoped>\n",
       "    .dataframe tbody tr th:only-of-type {\n",
       "        vertical-align: middle;\n",
       "    }\n",
       "\n",
       "    .dataframe tbody tr th {\n",
       "        vertical-align: top;\n",
       "    }\n",
       "\n",
       "    .dataframe thead th {\n",
       "        text-align: right;\n",
       "    }\n",
       "</style>\n",
       "<table border=\"1\" class=\"dataframe\">\n",
       "  <thead>\n",
       "    <tr style=\"text-align: right;\">\n",
       "      <th></th>\n",
       "      <th>Dependents</th>\n",
       "      <th>Qual_var</th>\n",
       "      <th>App_Income_1</th>\n",
       "      <th>App_Income_2</th>\n",
       "      <th>CPL_Amount</th>\n",
       "      <th>CPL_Term</th>\n",
       "      <th>Credit_His</th>\n",
       "      <th>Prop_Area</th>\n",
       "      <th>Sex_M</th>\n",
       "      <th>Sex_O</th>\n",
       "      <th>Marital_Status_Y</th>\n",
       "      <th>SE_Y</th>\n",
       "    </tr>\n",
       "  </thead>\n",
       "  <tbody>\n",
       "    <tr>\n",
       "      <th>0</th>\n",
       "      <td>0</td>\n",
       "      <td>Grad</td>\n",
       "      <td>6864.0</td>\n",
       "      <td>0.0</td>\n",
       "      <td>132.0</td>\n",
       "      <td>360.0</td>\n",
       "      <td>1.0</td>\n",
       "      <td>Urban</td>\n",
       "      <td>1</td>\n",
       "      <td>0</td>\n",
       "      <td>1</td>\n",
       "      <td>0</td>\n",
       "    </tr>\n",
       "    <tr>\n",
       "      <th>1</th>\n",
       "      <td>1</td>\n",
       "      <td>Grad</td>\n",
       "      <td>3691.2</td>\n",
       "      <td>1800.0</td>\n",
       "      <td>151.2</td>\n",
       "      <td>360.0</td>\n",
       "      <td>1.0</td>\n",
       "      <td>Urban</td>\n",
       "      <td>1</td>\n",
       "      <td>0</td>\n",
       "      <td>1</td>\n",
       "      <td>0</td>\n",
       "    </tr>\n",
       "    <tr>\n",
       "      <th>2</th>\n",
       "      <td>2</td>\n",
       "      <td>Grad</td>\n",
       "      <td>6000.0</td>\n",
       "      <td>2160.0</td>\n",
       "      <td>249.6</td>\n",
       "      <td>360.0</td>\n",
       "      <td>1.0</td>\n",
       "      <td>Urban</td>\n",
       "      <td>1</td>\n",
       "      <td>0</td>\n",
       "      <td>1</td>\n",
       "      <td>0</td>\n",
       "    </tr>\n",
       "    <tr>\n",
       "      <th>3</th>\n",
       "      <td>2</td>\n",
       "      <td>Grad</td>\n",
       "      <td>2808.0</td>\n",
       "      <td>3055.2</td>\n",
       "      <td>120.0</td>\n",
       "      <td>360.0</td>\n",
       "      <td>1.0</td>\n",
       "      <td>Urban</td>\n",
       "      <td>1</td>\n",
       "      <td>0</td>\n",
       "      <td>1</td>\n",
       "      <td>0</td>\n",
       "    </tr>\n",
       "    <tr>\n",
       "      <th>4</th>\n",
       "      <td>0</td>\n",
       "      <td>Non Grad</td>\n",
       "      <td>3931.2</td>\n",
       "      <td>0.0</td>\n",
       "      <td>93.6</td>\n",
       "      <td>360.0</td>\n",
       "      <td>1.0</td>\n",
       "      <td>Urban</td>\n",
       "      <td>1</td>\n",
       "      <td>0</td>\n",
       "      <td>0</td>\n",
       "      <td>0</td>\n",
       "    </tr>\n",
       "  </tbody>\n",
       "</table>\n",
       "</div>"
      ],
      "text/plain": [
       "  Dependents  Qual_var  App_Income_1  App_Income_2  CPL_Amount  CPL_Term  \\\n",
       "0          0      Grad        6864.0           0.0       132.0     360.0   \n",
       "1          1      Grad        3691.2        1800.0       151.2     360.0   \n",
       "2          2      Grad        6000.0        2160.0       249.6     360.0   \n",
       "3          2      Grad        2808.0        3055.2       120.0     360.0   \n",
       "4          0  Non Grad        3931.2           0.0        93.6     360.0   \n",
       "\n",
       "   Credit_His Prop_Area  Sex_M  Sex_O  Marital_Status_Y  SE_Y  \n",
       "0         1.0     Urban      1      0                 1     0  \n",
       "1         1.0     Urban      1      0                 1     0  \n",
       "2         1.0     Urban      1      0                 1     0  \n",
       "3         1.0     Urban      1      0                 1     0  \n",
       "4         1.0     Urban      1      0                 0     0  "
      ]
     },
     "execution_count": 290,
     "metadata": {},
     "output_type": "execute_result"
    }
   ],
   "source": [
    "df1.head()"
   ]
  },
  {
   "cell_type": "code",
   "execution_count": 291,
   "metadata": {},
   "outputs": [],
   "source": [
    "df1.Qual_var=df1.Qual_var.replace(['Grad','Non Grad'],[1,0])\n",
    "df1.Prop_Area=df1.Prop_Area.replace(['Urban','Semi U','Rural'],[2,1,0])\n",
    "df1.Dependents=df1.Dependents.replace([0,1,2,'3+'],[3,2,1,0])"
   ]
  },
  {
   "cell_type": "code",
   "execution_count": 292,
   "metadata": {},
   "outputs": [
    {
     "data": {
      "text/html": [
       "<div>\n",
       "<style scoped>\n",
       "    .dataframe tbody tr th:only-of-type {\n",
       "        vertical-align: middle;\n",
       "    }\n",
       "\n",
       "    .dataframe tbody tr th {\n",
       "        vertical-align: top;\n",
       "    }\n",
       "\n",
       "    .dataframe thead th {\n",
       "        text-align: right;\n",
       "    }\n",
       "</style>\n",
       "<table border=\"1\" class=\"dataframe\">\n",
       "  <thead>\n",
       "    <tr style=\"text-align: right;\">\n",
       "      <th></th>\n",
       "      <th>Dependents</th>\n",
       "      <th>Qual_var</th>\n",
       "      <th>App_Income_1</th>\n",
       "      <th>App_Income_2</th>\n",
       "      <th>CPL_Amount</th>\n",
       "      <th>CPL_Term</th>\n",
       "      <th>Credit_His</th>\n",
       "      <th>Prop_Area</th>\n",
       "      <th>Sex_M</th>\n",
       "      <th>Sex_O</th>\n",
       "      <th>Marital_Status_Y</th>\n",
       "      <th>SE_Y</th>\n",
       "    </tr>\n",
       "  </thead>\n",
       "  <tbody>\n",
       "    <tr>\n",
       "      <th>0</th>\n",
       "      <td>3</td>\n",
       "      <td>1</td>\n",
       "      <td>6864.0</td>\n",
       "      <td>0.0</td>\n",
       "      <td>132.0</td>\n",
       "      <td>360.0</td>\n",
       "      <td>1.0</td>\n",
       "      <td>2</td>\n",
       "      <td>1</td>\n",
       "      <td>0</td>\n",
       "      <td>1</td>\n",
       "      <td>0</td>\n",
       "    </tr>\n",
       "    <tr>\n",
       "      <th>1</th>\n",
       "      <td>2</td>\n",
       "      <td>1</td>\n",
       "      <td>3691.2</td>\n",
       "      <td>1800.0</td>\n",
       "      <td>151.2</td>\n",
       "      <td>360.0</td>\n",
       "      <td>1.0</td>\n",
       "      <td>2</td>\n",
       "      <td>1</td>\n",
       "      <td>0</td>\n",
       "      <td>1</td>\n",
       "      <td>0</td>\n",
       "    </tr>\n",
       "    <tr>\n",
       "      <th>2</th>\n",
       "      <td>1</td>\n",
       "      <td>1</td>\n",
       "      <td>6000.0</td>\n",
       "      <td>2160.0</td>\n",
       "      <td>249.6</td>\n",
       "      <td>360.0</td>\n",
       "      <td>1.0</td>\n",
       "      <td>2</td>\n",
       "      <td>1</td>\n",
       "      <td>0</td>\n",
       "      <td>1</td>\n",
       "      <td>0</td>\n",
       "    </tr>\n",
       "    <tr>\n",
       "      <th>3</th>\n",
       "      <td>1</td>\n",
       "      <td>1</td>\n",
       "      <td>2808.0</td>\n",
       "      <td>3055.2</td>\n",
       "      <td>120.0</td>\n",
       "      <td>360.0</td>\n",
       "      <td>1.0</td>\n",
       "      <td>2</td>\n",
       "      <td>1</td>\n",
       "      <td>0</td>\n",
       "      <td>1</td>\n",
       "      <td>0</td>\n",
       "    </tr>\n",
       "    <tr>\n",
       "      <th>4</th>\n",
       "      <td>3</td>\n",
       "      <td>0</td>\n",
       "      <td>3931.2</td>\n",
       "      <td>0.0</td>\n",
       "      <td>93.6</td>\n",
       "      <td>360.0</td>\n",
       "      <td>1.0</td>\n",
       "      <td>2</td>\n",
       "      <td>1</td>\n",
       "      <td>0</td>\n",
       "      <td>0</td>\n",
       "      <td>0</td>\n",
       "    </tr>\n",
       "  </tbody>\n",
       "</table>\n",
       "</div>"
      ],
      "text/plain": [
       "   Dependents  Qual_var  App_Income_1  App_Income_2  CPL_Amount  CPL_Term  \\\n",
       "0           3         1        6864.0           0.0       132.0     360.0   \n",
       "1           2         1        3691.2        1800.0       151.2     360.0   \n",
       "2           1         1        6000.0        2160.0       249.6     360.0   \n",
       "3           1         1        2808.0        3055.2       120.0     360.0   \n",
       "4           3         0        3931.2           0.0        93.6     360.0   \n",
       "\n",
       "   Credit_His  Prop_Area  Sex_M  Sex_O  Marital_Status_Y  SE_Y  \n",
       "0         1.0          2      1      0                 1     0  \n",
       "1         1.0          2      1      0                 1     0  \n",
       "2         1.0          2      1      0                 1     0  \n",
       "3         1.0          2      1      0                 1     0  \n",
       "4         1.0          2      1      0                 0     0  "
      ]
     },
     "execution_count": 292,
     "metadata": {},
     "output_type": "execute_result"
    }
   ],
   "source": [
    "df1.head()"
   ]
  },
  {
   "cell_type": "code",
   "execution_count": 294,
   "metadata": {},
   "outputs": [
    {
     "data": {
      "text/plain": [
       "MinMaxScaler(copy=True, feature_range=(0, 1))"
      ]
     },
     "execution_count": 294,
     "metadata": {},
     "output_type": "execute_result"
    }
   ],
   "source": [
    "feature_scale=[feature for feature in df1.columns]\n",
    "from sklearn.preprocessing import MinMaxScaler\n",
    "scaler=MinMaxScaler()\n",
    "scaler.fit(df1[feature_scale])"
   ]
  },
  {
   "cell_type": "code",
   "execution_count": 295,
   "metadata": {},
   "outputs": [],
   "source": [
    "test=pd.DataFrame(scaler.transform(df1[feature_scale]),columns=feature_scale)"
   ]
  },
  {
   "cell_type": "code",
   "execution_count": 296,
   "metadata": {},
   "outputs": [
    {
     "data": {
      "text/html": [
       "<div>\n",
       "<style scoped>\n",
       "    .dataframe tbody tr th:only-of-type {\n",
       "        vertical-align: middle;\n",
       "    }\n",
       "\n",
       "    .dataframe tbody tr th {\n",
       "        vertical-align: top;\n",
       "    }\n",
       "\n",
       "    .dataframe thead th {\n",
       "        text-align: right;\n",
       "    }\n",
       "</style>\n",
       "<table border=\"1\" class=\"dataframe\">\n",
       "  <thead>\n",
       "    <tr style=\"text-align: right;\">\n",
       "      <th></th>\n",
       "      <th>Dependents</th>\n",
       "      <th>Qual_var</th>\n",
       "      <th>App_Income_1</th>\n",
       "      <th>App_Income_2</th>\n",
       "      <th>CPL_Amount</th>\n",
       "      <th>CPL_Term</th>\n",
       "      <th>Credit_His</th>\n",
       "      <th>Prop_Area</th>\n",
       "      <th>Sex_M</th>\n",
       "      <th>Sex_O</th>\n",
       "      <th>Marital_Status_Y</th>\n",
       "      <th>SE_Y</th>\n",
       "    </tr>\n",
       "  </thead>\n",
       "  <tbody>\n",
       "    <tr>\n",
       "      <th>0</th>\n",
       "      <td>1.000000</td>\n",
       "      <td>1.0</td>\n",
       "      <td>0.078865</td>\n",
       "      <td>0.000000</td>\n",
       "      <td>0.157088</td>\n",
       "      <td>0.746835</td>\n",
       "      <td>1.0</td>\n",
       "      <td>1.0</td>\n",
       "      <td>1.0</td>\n",
       "      <td>0.0</td>\n",
       "      <td>1.0</td>\n",
       "      <td>0.0</td>\n",
       "    </tr>\n",
       "    <tr>\n",
       "      <th>1</th>\n",
       "      <td>0.666667</td>\n",
       "      <td>1.0</td>\n",
       "      <td>0.042411</td>\n",
       "      <td>0.062500</td>\n",
       "      <td>0.187739</td>\n",
       "      <td>0.746835</td>\n",
       "      <td>1.0</td>\n",
       "      <td>1.0</td>\n",
       "      <td>1.0</td>\n",
       "      <td>0.0</td>\n",
       "      <td>1.0</td>\n",
       "      <td>0.0</td>\n",
       "    </tr>\n",
       "    <tr>\n",
       "      <th>2</th>\n",
       "      <td>0.333333</td>\n",
       "      <td>1.0</td>\n",
       "      <td>0.068938</td>\n",
       "      <td>0.075000</td>\n",
       "      <td>0.344828</td>\n",
       "      <td>0.746835</td>\n",
       "      <td>1.0</td>\n",
       "      <td>1.0</td>\n",
       "      <td>1.0</td>\n",
       "      <td>0.0</td>\n",
       "      <td>1.0</td>\n",
       "      <td>0.0</td>\n",
       "    </tr>\n",
       "    <tr>\n",
       "      <th>3</th>\n",
       "      <td>0.333333</td>\n",
       "      <td>1.0</td>\n",
       "      <td>0.032263</td>\n",
       "      <td>0.106083</td>\n",
       "      <td>0.137931</td>\n",
       "      <td>0.746835</td>\n",
       "      <td>1.0</td>\n",
       "      <td>1.0</td>\n",
       "      <td>1.0</td>\n",
       "      <td>0.0</td>\n",
       "      <td>1.0</td>\n",
       "      <td>0.0</td>\n",
       "    </tr>\n",
       "    <tr>\n",
       "      <th>4</th>\n",
       "      <td>1.000000</td>\n",
       "      <td>0.0</td>\n",
       "      <td>0.045168</td>\n",
       "      <td>0.000000</td>\n",
       "      <td>0.095785</td>\n",
       "      <td>0.746835</td>\n",
       "      <td>1.0</td>\n",
       "      <td>1.0</td>\n",
       "      <td>1.0</td>\n",
       "      <td>0.0</td>\n",
       "      <td>0.0</td>\n",
       "      <td>0.0</td>\n",
       "    </tr>\n",
       "  </tbody>\n",
       "</table>\n",
       "</div>"
      ],
      "text/plain": [
       "   Dependents  Qual_var  App_Income_1  App_Income_2  CPL_Amount  CPL_Term  \\\n",
       "0    1.000000       1.0      0.078865      0.000000    0.157088  0.746835   \n",
       "1    0.666667       1.0      0.042411      0.062500    0.187739  0.746835   \n",
       "2    0.333333       1.0      0.068938      0.075000    0.344828  0.746835   \n",
       "3    0.333333       1.0      0.032263      0.106083    0.137931  0.746835   \n",
       "4    1.000000       0.0      0.045168      0.000000    0.095785  0.746835   \n",
       "\n",
       "   Credit_His  Prop_Area  Sex_M  Sex_O  Marital_Status_Y  SE_Y  \n",
       "0         1.0        1.0    1.0    0.0               1.0   0.0  \n",
       "1         1.0        1.0    1.0    0.0               1.0   0.0  \n",
       "2         1.0        1.0    1.0    0.0               1.0   0.0  \n",
       "3         1.0        1.0    1.0    0.0               1.0   0.0  \n",
       "4         1.0        1.0    1.0    0.0               0.0   0.0  "
      ]
     },
     "execution_count": 296,
     "metadata": {},
     "output_type": "execute_result"
    }
   ],
   "source": [
    "test.head()"
   ]
  },
  {
   "cell_type": "code",
   "execution_count": 388,
   "metadata": {},
   "outputs": [
    {
     "data": {
      "text/plain": [
       "LinearSVC(C=1.0, class_weight=None, dual=True, fit_intercept=True,\n",
       "          intercept_scaling=1, loss='squared_hinge', max_iter=1000,\n",
       "          multi_class='ovr', penalty='l2', random_state=None, tol=0.0001,\n",
       "          verbose=0)"
      ]
     },
     "execution_count": 388,
     "metadata": {},
     "output_type": "execute_result"
    }
   ],
   "source": [
    "model=LinearSVC()\n",
    "model.fit(X_train,y_train)"
   ]
  },
  {
   "cell_type": "code",
   "execution_count": 389,
   "metadata": {},
   "outputs": [],
   "source": [
    "y_pred=model.predict(test)"
   ]
  },
  {
   "cell_type": "code",
   "execution_count": 391,
   "metadata": {},
   "outputs": [],
   "source": [
    "y_pred=pd.DataFrame(y_pred)"
   ]
  },
  {
   "cell_type": "code",
   "execution_count": 392,
   "metadata": {},
   "outputs": [],
   "source": [
    "y_pred.to_excel(r'F:\\Data analysis\\Edulyt India\\submission.xlsx')"
   ]
  },
  {
   "cell_type": "code",
   "execution_count": 395,
   "metadata": {},
   "outputs": [],
   "source": [
    "pred=pd.read_excel(r'F:\\Data analysis\\Edulyt India\\submission.xlsx')"
   ]
  },
  {
   "cell_type": "code",
   "execution_count": 396,
   "metadata": {},
   "outputs": [],
   "source": [
    "pred.to_csv(r'F:\\Data analysis\\Edulyt India\\submission.csv')"
   ]
  },
  {
   "cell_type": "code",
   "execution_count": null,
   "metadata": {},
   "outputs": [],
   "source": []
  }
 ],
 "metadata": {
  "kernelspec": {
   "display_name": "Python 3",
   "language": "python",
   "name": "python3"
  },
  "language_info": {
   "codemirror_mode": {
    "name": "ipython",
    "version": 3
   },
   "file_extension": ".py",
   "mimetype": "text/x-python",
   "name": "python",
   "nbconvert_exporter": "python",
   "pygments_lexer": "ipython3",
   "version": "3.7.6"
  }
 },
 "nbformat": 4,
 "nbformat_minor": 4
}
